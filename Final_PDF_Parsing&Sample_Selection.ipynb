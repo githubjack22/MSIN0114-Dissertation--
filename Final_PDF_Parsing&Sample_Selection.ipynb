{
 "cells": [
  {
   "cell_type": "markdown",
   "metadata": {},
   "source": [
    "# 1. PDF File Preprocessing Pipeline "
   ]
  },
  {
   "cell_type": "markdown",
   "metadata": {},
   "source": [
    "## 1.1 Automatic PDF Parsing\n",
    "Using the Parser module built by ourselves to automatically parse the PDF files"
   ]
  },
  {
   "cell_type": "code",
   "execution_count": 1,
   "metadata": {
    "scrolled": true
   },
   "outputs": [],
   "source": [
    "import Parser\n",
    "import os\n",
    "import json\n",
    "import pandas as pd\n",
    "import numpy as np\n",
    "import re"
   ]
  },
  {
   "cell_type": "code",
   "execution_count": 2,
   "metadata": {},
   "outputs": [],
   "source": [
    "# input the path of the reports folder\n",
    "# parent_path = '/project/Reports/Annual_Reports_copy' \n",
    "# all_path = os.listdir(parent_path)\n",
    "# pdf_list = [file for file in all_path if file[-3:]=='pdf']"
   ]
  },
  {
   "cell_type": "code",
   "execution_count": 12,
   "metadata": {
    "scrolled": true
   },
   "outputs": [],
   "source": [
    "# Parse the PDF files and write page contents into text files\n",
    "# %%time #Only run this once to avoid long running time\n",
    "# os.chdir(parent_path)\n",
    "# for file_path in pdf_list:\n",
    "#     Parser.pdfparser(file_path,delete_existing=True)"
   ]
  },
  {
   "cell_type": "code",
   "execution_count": 13,
   "metadata": {},
   "outputs": [],
   "source": [
    "#dump all text files into a JSON file\n",
    "# os.chdir(parent_path)\n",
    "# all_text=[]\n",
    "# txt_list = [file for file in all_path if file[-3:]=='txt']\n",
    "# for file_path in txt_list:\n",
    "#     all_text.append(Parser.text_to_dict(file_path))\n",
    "# with open(\"raw_text_all.json\",\"w\") as f:\n",
    "#     json.dump(all_text,f)"
   ]
  },
  {
   "cell_type": "code",
   "execution_count": 15,
   "metadata": {},
   "outputs": [],
   "source": [
    "# #New annual report updates\n",
    "# parent_path = '/project/Reports/Updates' \n",
    "# all_path = os.listdir(parent_path)\n",
    "# pdf_list = [file for file in all_path if file[-3:]=='pdf']\n",
    "# os.chdir(parent_path)\n",
    "# for file_path in pdf_list:\n",
    "#     Parser.pdfparser(file_path,delete_existing=True)\n",
    "# os.chdir(parent_path)\n",
    "# all_path = os.listdir(parent_path)\n",
    "# all_text=[]\n",
    "# txt_list = [file for file in all_path if file[-3:]=='txt']\n",
    "# print(len(txt_list))\n",
    "# for file_path in txt_list:\n",
    "#     all_text.append(Parser.text_to_dict(file_path))\n",
    "# import json\n",
    "# with open(\"raw_text_all.json\",\"w\") as f:\n",
    "#     json.dump(all_text,f)"
   ]
  },
  {
   "cell_type": "code",
   "execution_count": 53,
   "metadata": {
    "collapsed": true
   },
   "outputs": [
    {
     "name": "stderr",
     "output_type": "stream",
     "text": [
      "2020-08-07 13:10:12,652 [MainThread  ] [INFO ]  Retrieving http://search.maven.org/remotecontent?filepath=org/apache/tika/tika-server/1.24/tika-server-1.24.jar to /tmp/tika-server.jar.\n",
      "2020-08-07 13:10:13,132 [MainThread  ] [INFO ]  Retrieving http://search.maven.org/remotecontent?filepath=org/apache/tika/tika-server/1.24/tika-server-1.24.jar.md5 to /tmp/tika-server.jar.md5.\n",
      "2020-08-07 13:10:13,547 [MainThread  ] [WARNI]  Failed to see startup log message; retrying...\n"
     ]
    },
    {
     "name": "stdout",
     "output_type": "stream",
     "text": [
      "parsing text-formatted pdf file\n",
      "parsing finished:HSBC_Holdings_Plc_ESG_Report_2018\n",
      "parsing text-formatted pdf file\n",
      "parsing finished:HSBC_Holdings_Plc_ESG_Report_b_2017\n",
      "parsing text-formatted pdf file\n",
      "parsing finished:QBE_Insurance_Group Ltd_Sustainability_Report_2018\n",
      "parsing text-formatted pdf file\n",
      "parsing finished:Aviva_Plc_Climate_Report_2018\n",
      "parsing text-formatted pdf file\n",
      "parsing finished:Allianz_Group_Sustainability_Report_2018\n",
      "parsing text-formatted pdf file\n",
      "parsing finished:Aviva_Plc_Response_to_Climate_Change_2016\n",
      "parsing text-formatted pdf file\n",
      "parsing finished:Lloyds_Banking_Group_ESG_Report_2019\n",
      "parsing text-formatted pdf file\n",
      "parsing finished:Aviva_Plc_CRS_Report_2017\n",
      "parsing text-formatted pdf file\n",
      "parsing finished:AXA_Group_Integrated_Report_2017\n",
      "parsing text-formatted pdf file\n",
      "parsing finished:Barclays_Plc_ESG_Report_2016\n",
      "parsing text-formatted pdf file\n",
      "parsing finished:Lloyds_Banking_Group_ESG_Report_2018a\n",
      "parsing text-formatted pdf file\n",
      "parsing finished:Aviva_Plc_CR_Data_2018\n",
      "parsing text-formatted pdf file\n",
      "parsing finished:Standard_Chartered_Plc_Sustainability_2016\n",
      "parsing text-formatted pdf file\n",
      "parsing finished:Standard_Chartered_Plc_Climate_Report_2019\n",
      "parsing text-formatted pdf file\n",
      "parsing finished:Santander_UK_Group_Holdings_Plc_ESG_Report_2019\n",
      "parsing text-formatted pdf file\n",
      "parsing finished:Centrica_Responsible_Business_2019\n",
      "parsing text-formatted pdf file\n",
      "parsing finished:Aviva_Plc_CR_Data_2016\n",
      "parsing text-formatted pdf file\n",
      "parsing finished:XL_Catlin_CSR_Report_2018\n",
      "parsing text-formatted pdf file\n",
      "parsing finished:AXA_Group_Climate_Report_2019\n",
      "parsing text-formatted pdf file\n",
      "parsing finished:QBE _Sustainability _Report_2019\n",
      "parsing text-formatted pdf file\n",
      "parsing finished:Centrica_Responsible_Business_Ambitions_Brochure_2019\n",
      "parsing text-formatted pdf file\n",
      "parsing finished:Aviva_Plc_CRS_Report_2019\n",
      "parsing text-formatted pdf file\n",
      "parsing finished:Barclays_Plc_ESG_Report_2018\n",
      "parsing text-formatted pdf file\n",
      "parsing finished:AXA_Group_Integrated_Report_2019\n",
      "parsing text-formatted pdf file\n",
      "parsing finished:Centrica_Responsible_Business_2017\n",
      "parsing text-formatted pdf file\n",
      "parsing finished:Allianz_Group_Sustainability_Report_2016\n",
      "parsing text-formatted pdf file\n",
      "parsing finished:Standard_Chartered_Plc_Sustainability_2018\n",
      "parsing text-formatted pdf file\n",
      "parsing finished:Lloyds_Banking_Group_ESG_Report_2017\n",
      "parsing text-formatted pdf file\n",
      "parsing finished:Bupa_Insurance_Ltd_Responsible_Investment_2019\n",
      "parsing text-formatted pdf file\n",
      "parsing finished:QBE_Insurance_Group Ltd_Sustainability_Report_2016\n",
      "parsing text-formatted pdf file\n",
      "parsing finished:NFU_Mutual_Responsible_Business_Report_2019\n",
      "parsing text-formatted pdf file\n",
      "parsing finished:Yorkshire_Building_Society_sSociety_Matters_2017\n",
      "parsing text-formatted pdf file\n",
      "parsing finished:Santander_UK_Group_Holdings_Plc_Sustainability_Report_2018\n",
      "parsing text-formatted pdf file\n",
      "parsing finished:HSBC_Holdings_Plc_ESG_Report_2019\n",
      "parsing text-formatted pdf file\n",
      "parsing finished:Aviva_Plc_Climate_Report_2019\n",
      "parsing text-formatted pdf file\n",
      "parsing finished:QBE_Insurance_Group Ltd_Sustainability_Report_2019\n",
      "parsing text-formatted pdf file\n",
      "parsing finished:AXA_Group_Climate_Report_2018\n",
      "parsing text-formatted pdf file\n",
      "parsing finished:Allianz_Group_Sustainability_Report_2019\n",
      "parsing image-formatted pdf file\n",
      "parsing finished:Aviva_Plc_CRS_Report_2018\n",
      "parsing text-formatted pdf file\n",
      "parsing finished:Centrica_Responsible_Business_Ambitions_Brochure_2018\n",
      "parsing text-formatted pdf file\n",
      "parsing finished:Barclays_Plc_ESG_Report_2017\n",
      "parsing text-formatted pdf file\n",
      "parsing finished:AXA_Group_Integrated_Report_2018\n",
      "parsing text-formatted pdf file\n",
      "parsing finished:Chubb_Ltd_Environment_Report_2019\n",
      "parsing text-formatted pdf file\n",
      "parsing finished:Centrica_Responsible_Business_2016\n",
      "parsing text-formatted pdf file\n",
      "parsing finished:Lloyds_Banking_Group_ESG_Report_2018b\n",
      "parsing text-formatted pdf file\n",
      "parsing finished:Liverpool_Victoria_Insurance_Company_Ltd_Corporate_Social_Responsibility_2018\n",
      "parsing text-formatted pdf file\n",
      "parsing finished:Standard_Chartered_Plc_Sustainability_2017\n",
      "parsing text-formatted pdf file\n",
      "parsing finished:Lloyds_Banking_Group_ESG_Report_2016\n",
      "parsing text-formatted pdf file\n",
      "parsing finished:Aviva_Plc_CR_Data_2019\n",
      "parsing text-formatted pdf file\n",
      "parsing finished:AIG_Inc_Climate_Report_2018\n",
      "parsing text-formatted pdf file\n",
      "parsing finished:Yorkshire_Building_Society_sSociety_Matters_2016\n",
      "parsing text-formatted pdf file\n",
      "parsing finished:Aviva_Plc_CR_Data_2017\n",
      "parsing text-formatted pdf file\n",
      "parsing finished:QBE_Our_Approachto_Climate_Change_2019\n",
      "parsing text-formatted pdf file\n",
      "parsing finished:Standard_Chartered_Plc_Climate_Report_2018\n",
      "parsing text-formatted pdf file\n",
      "parsing finished:Aviva_Plc_Climatewise_2016\n",
      "parsing text-formatted pdf file\n",
      "parsing finished:Barclays_Plc_ESG_Report_2019\n",
      "parsing text-formatted pdf file\n",
      "parsing finished:Centrica_Responsible_Business_2018\n",
      "parsing text-formatted pdf file\n",
      "parsing finished:Allianz_Group_Sustainability_Report_2017\n",
      "parsing text-formatted pdf file\n",
      "parsing finished:Aviva_Plc_CRS_Report_2016\n",
      "parsing text-formatted pdf file\n",
      "parsing finished:Standard_Chartered_Plc_Sustainability_2019\n",
      "parsing text-formatted pdf file\n",
      "parsing finished:AXA_Group_Integrated_Report_2016\n",
      "parsing text-formatted pdf file\n",
      "parsing finished:Direct_Line_Group_Climate_Risk_2019\n",
      "parsing text-formatted pdf file\n",
      "parsing finished:Aviva_Plc_Programme_Response_Climate_Change_2016\n",
      "parsing text-formatted pdf file\n",
      "parsing finished:QBE_Insurance_Group Ltd_Sustainability_Report_2017\n",
      "parsing text-formatted pdf file\n",
      "parsing finished:Yorkshire_Building_Society_sSociety_Matters_2018\n",
      "parsing text-formatted pdf file\n",
      "parsing finished:HSBC_Holdings_Plc_ESG_Report_a_2017\n",
      "parsing text-formatted pdf file\n",
      "parsing finished:Coventry_Building_Society_Emission_2019\n",
      "67\n"
     ]
    },
    {
     "ename": "NameError",
     "evalue": "name 'json' is not defined",
     "output_type": "error",
     "traceback": [
      "\u001b[0;31m---------------------------------------------------------------------------\u001b[0m",
      "\u001b[0;31mNameError\u001b[0m                                 Traceback (most recent call last)",
      "\u001b[0;32m<ipython-input-53-51dbddbdbead>\u001b[0m in \u001b[0;36m<module>\u001b[0;34m\u001b[0m\n\u001b[1;32m     14\u001b[0m     \u001b[0mall_text\u001b[0m\u001b[0;34m.\u001b[0m\u001b[0mappend\u001b[0m\u001b[0;34m(\u001b[0m\u001b[0mParser\u001b[0m\u001b[0;34m.\u001b[0m\u001b[0mtext_to_dict\u001b[0m\u001b[0;34m(\u001b[0m\u001b[0mfile_path\u001b[0m\u001b[0;34m)\u001b[0m\u001b[0;34m)\u001b[0m\u001b[0;34m\u001b[0m\u001b[0;34m\u001b[0m\u001b[0m\n\u001b[1;32m     15\u001b[0m \u001b[0;32mwith\u001b[0m \u001b[0mopen\u001b[0m\u001b[0;34m(\u001b[0m\u001b[0;34m\"raw_text_all.json\"\u001b[0m\u001b[0;34m,\u001b[0m\u001b[0;34m\"w\"\u001b[0m\u001b[0;34m)\u001b[0m \u001b[0;32mas\u001b[0m \u001b[0mf\u001b[0m\u001b[0;34m:\u001b[0m\u001b[0;34m\u001b[0m\u001b[0;34m\u001b[0m\u001b[0m\n\u001b[0;32m---> 16\u001b[0;31m     \u001b[0mjson\u001b[0m\u001b[0;34m.\u001b[0m\u001b[0mdump\u001b[0m\u001b[0;34m(\u001b[0m\u001b[0mall_text\u001b[0m\u001b[0;34m,\u001b[0m\u001b[0mf\u001b[0m\u001b[0;34m)\u001b[0m\u001b[0;34m\u001b[0m\u001b[0;34m\u001b[0m\u001b[0m\n\u001b[0m",
      "\u001b[0;31mNameError\u001b[0m: name 'json' is not defined"
     ]
    }
   ],
   "source": [
    "#Other reports update\n",
    "# parent_path = '/project/Reports/Other_Reports' \n",
    "# all_path = os.listdir(parent_path)\n",
    "# pdf_list = [file for file in all_path if file[-3:]=='pdf']\n",
    "# os.chdir(parent_path)\n",
    "# for file_path in pdf_list:\n",
    "#     Parser.pdfparser(file_path,delete_existing=True)\n",
    "# import json    \n",
    "# all_path = os.listdir(parent_path)\n",
    "# all_text=[]\n",
    "# txt_list = [file for file in all_path if file[-3:]=='txt']\n",
    "# print(len(txt_list))\n",
    "# for file_path in txt_list:\n",
    "#     all_text.append(Parser.text_to_dict(file_path))\n",
    "# with open(\"raw_text_all.json\",\"w\") as f:\n",
    "#     json.dump(all_text,f)"
   ]
  },
  {
   "cell_type": "markdown",
   "metadata": {},
   "source": [
    "## 1.2 Table of Contents (TOC) Parsing"
   ]
  },
  {
   "cell_type": "markdown",
   "metadata": {},
   "source": [
    "### 1.2.1 Read JOSN file into Pandas Dataframe"
   ]
  },
  {
   "cell_type": "code",
   "execution_count": 3,
   "metadata": {},
   "outputs": [],
   "source": [
    "#main folder\n",
    "parent_path = '/project/Reports/Annual_Reports_copy' \n",
    "os.chdir(parent_path)\n",
    "df = pd.read_json('raw_text_all.json','records')\n",
    "df['row']=df.index\n",
    "df['total_page'] = df.raw_text.apply(lambda x: len(x))\n",
    "\n",
    "df['firm_name'] = df.file_name.apply(lambda x:\n",
    "                               re.findall(r'.+(?=_Annual_Report)',x)[0])\n",
    "df['year'] = df.file_name.apply(lambda x:\n",
    "                         re.findall(r'.{4}(?=_text)',x)[0])"
   ]
  },
  {
   "cell_type": "code",
   "execution_count": 4,
   "metadata": {},
   "outputs": [],
   "source": [
    "#updates folder:Annual Report\n",
    "parent_path = '/project/Reports/Updates' \n",
    "os.chdir(parent_path)\n",
    "df_update = pd.read_json('raw_text_all.json','records')\n",
    "df_update['row']=df_update.index\n",
    "df_update['total_page'] = df_update.raw_text.apply(lambda x: len(x))\n",
    "df_update['firm_name'] = df_update.file_name.apply(lambda x:\n",
    "                               re.findall(r'.+(?=_Annual_Report)',x)[0])\n",
    "df_update['year'] = df_update.file_name.apply(lambda x:\n",
    "                         re.findall(r'.{4}(?=_text)',x)[0])"
   ]
  },
  {
   "cell_type": "code",
   "execution_count": 5,
   "metadata": {},
   "outputs": [],
   "source": [
    "# Update df with df_update (must reset column row with new index)\n",
    "df_new = df[~df['file_name'].isin(df_update['file_name'])].copy()\n",
    "df_new = pd.concat([df_new,df_update],ignore_index=True,sort=False)\n",
    "df_new['row'] = df_new.index "
   ]
  },
  {
   "cell_type": "code",
   "execution_count": 6,
   "metadata": {},
   "outputs": [],
   "source": [
    "#other reports folder\n",
    "parent_path = '/project/Reports/Other_Reports' \n",
    "os.chdir(parent_path)\n",
    "df_other = pd.read_json('raw_text_all.json','records')\n",
    "df_other['row']=df_other.index\n",
    "df_other['total_page'] = df_other.raw_text.apply(lambda x: len(x))\n",
    "regex_firm = r'''.+(?=_Climate|_Sustainability|_CR|_Programme|_Response|\n",
    "_sSociety|_Responsible|_ESG|_Environment|_Integrated|_Emission|_Our|_CSR|_Corporate)'''\n",
    "df_other['firm_name'] = df_other.file_name.apply(lambda x:\n",
    "                               re.findall(regex_firm,x)[0] if len(re.findall(regex_firm,x))>0 else np.nan)\n",
    "df_other['year'] = df_other.file_name.apply(lambda x:\n",
    "                         re.findall(r'.{4}(?=_text)',x)[0])"
   ]
  },
  {
   "cell_type": "markdown",
   "metadata": {},
   "source": [
    "### 1.2.2 Expand Page List "
   ]
  },
  {
   "cell_type": "code",
   "execution_count": 7,
   "metadata": {},
   "outputs": [],
   "source": [
    "#split them into pages\n",
    "df_other_expanded = Parser.expand_pagelist(df_other) # do not generate toc for other reports\n",
    "df_expanded = Parser.expand_pagelist(df_new)\n",
    "df_expanded = Parser.extract_potential_header(df_expanded)\n",
    "#each row of the dataframe now contains only the information of one page\n"
   ]
  },
  {
   "cell_type": "markdown",
   "metadata": {},
   "source": [
    "### 1.2.3 Locate TOC Page for Each Report"
   ]
  },
  {
   "cell_type": "code",
   "execution_count": 10,
   "metadata": {},
   "outputs": [],
   "source": [
    "# read the gold standard headings and locate toc page\n",
    "standard_header = Parser.header_preprocessor('/project/Data/headers.xlsx')\n",
    "df_toc = Parser.find_toc_page(df_expanded,standard_header)"
   ]
  },
  {
   "cell_type": "code",
   "execution_count": 11,
   "metadata": {},
   "outputs": [
    {
     "name": "stdout",
     "output_type": "stream",
     "text": [
      "Allianz_Insurance_Plc_Annual_Report_2017_text\n",
      "Please input where the Table of Content occurs, if no Table of Content exits press Enter directly:\n",
      "Allianz_Insurance_Plc_Annual_Report_2018_text\n",
      "Please input where the Table of Content occurs, if no Table of Content exits press Enter directly:\n",
      "Allianz_Insurance_Plc_Annual_Report_2016_text\n",
      "Please input where the Table of Content occurs, if no Table of Content exits press Enter directly:\n",
      "Allianz_Insurance_Plc_Annual_Report_2019_text\n",
      "Please input where the Table of Content occurs, if no Table of Content exits press Enter directly:\n"
     ]
    }
   ],
   "source": [
    "#if the final decision is nan, allow manual check and modification of the result\n",
    "for index,row in df_toc[pd.isna(df_toc['toc_page'])].iterrows():\n",
    "    print(index)\n",
    "    manual_check = input('Please input where the Table of Content occurs, if no Table of Content exits press Enter directly:')\n",
    "    try:\n",
    "        df_toc.loc[index,'toc_page'] = int(manual_check)\n",
    "    except:\n",
    "        pass"
   ]
  },
  {
   "cell_type": "markdown",
   "metadata": {},
   "source": [
    "### 1.2.4 Automatically Generate New Table of Contents (as Dictionaries) for Reports Using Different Method and Automatically Select the Best Result"
   ]
  },
  {
   "cell_type": "code",
   "execution_count": 12,
   "metadata": {},
   "outputs": [
    {
     "name": "stdout",
     "output_type": "stream",
     "text": [
      "CPU times: user 3min 8s, sys: 44 ms, total: 3min 8s\n",
      "Wall time: 3min 11s\n"
     ]
    }
   ],
   "source": [
    "%%time\n",
    "df_toc_final = Parser.auto_parser_matcher(df_expanded,df_toc,standard_header)"
   ]
  },
  {
   "cell_type": "markdown",
   "metadata": {},
   "source": [
    "### 1.2.5 Examples of Manual Editing"
   ]
  },
  {
   "cell_type": "code",
   "execution_count": 13,
   "metadata": {},
   "outputs": [],
   "source": [
    "#1 change the whole toc manually directly\n",
    "file_name =  'Allianz_Insurance_Plc_Annual_Report_2017_text'\n",
    "dict_ = {2:(2,'strategic report'),6:(6,'directors report'),\n",
    "       7:(7,'statement of directors responsibilities'),\n",
    "       8:(8,'independent auditors report'),\n",
    "       13:(13,'financial statements'),\n",
    "       17:(17,'notes to financial statement'),\n",
    "       39:(39,'risk related disclosure'),\n",
    "       47:(47,'others')}\n",
    "\n",
    "df_toc_final = Parser.manual_editor(df_expanded,df_toc_final,file_name,standard_header,parser_auto=dict_) "
   ]
  },
  {
   "cell_type": "code",
   "execution_count": 14,
   "metadata": {},
   "outputs": [],
   "source": [
    "#1 change the whole toc manually directly\n",
    "file_name =  'Allianz_Insurance_Plc_Annual_Report_2016_text'\n",
    "dict_ = {2:(2,'strategic report'),6:(6,'directors report'),\n",
    "       7:(7,'statement of directors responsibilities'),\n",
    "       8:(8,'Independent auditors report'),\n",
    "       10:(10,'financial statements'),\n",
    "       13:(13,'notes to financial statement'),\n",
    "       35:(35,'risk related disclosure'),\n",
    "       43:(43,'others')}\n",
    "\n",
    "df_toc_final = Parser.manual_editor(df_expanded,df_toc_final,file_name,standard_header,parser_auto=dict_) "
   ]
  },
  {
   "cell_type": "code",
   "execution_count": 15,
   "metadata": {},
   "outputs": [],
   "source": [
    "file_name = 'Allianz_Insurance_Plc_Annual_Report_2018_text'\n",
    "dict_ = {2:(2,'strategic report'),6:(6,'directors report'),\n",
    "        7:(7,'statement of directors responsibilities'),\n",
    "        8:(8,'Independent auditors report'),\n",
    "        13:(13,'financial statements'),\n",
    "        17:(17,'notes to financial statement'),\n",
    "        40:(40,'risk related disclosure'),\n",
    "        50:(50,'others')}\n",
    "df_toc_final = Parser.manual_editor(df_expanded,df_toc_final,file_name,standard_header,parser_auto=dict_) "
   ]
  },
  {
   "cell_type": "code",
   "execution_count": 16,
   "metadata": {},
   "outputs": [],
   "source": [
    "#1 change the whole toc manually directly\n",
    "file_name =  'Allianz_Insurance_Plc_Annual_Report_2019_text'\n",
    "dict_ = {2:(2,'strategic report'),7:(7,'directors report'),\n",
    "       13:(13,'statement of directors responsibilities'),\n",
    "       14:(14,'independent auditors report'),\n",
    "       20:(20,'financial statements'),\n",
    "       24:(24,'notes to financial statement')}\n",
    "\n",
    "df_toc_final = Parser.manual_editor(df_expanded,df_toc_final,file_name,standard_header,parser_auto=dict_) "
   ]
  },
  {
   "cell_type": "code",
   "execution_count": 17,
   "metadata": {},
   "outputs": [],
   "source": [
    "file_name = 'Standard_Chartered_Plc_Annual_Report_2016_text'\n",
    "dict_ = {4:(2,'group at a glance'),6:(4,'chairmans statement'),\n",
    "        8:(6,'economic environment'),10:(8,'business model'),\n",
    "        12:(10,'how we do business'),14:(12,'group chief executives review'),\n",
    "        16:(14,'our strategy'),20:(18,'key performance indicators'),\n",
    "        23:(21,'group chief risk officers review'),26:(24,'group chief financial officers review'),\n",
    "        32:(30,'client segement reviews'),46:(44,'regional reviews'),\n",
    "        56:(54,'directors report'),134:(132,'risk review and capital review'),\n",
    "        192:(190,'financial statements and notes'),296:(294,'supplementary information')}\n",
    "df_toc_final = Parser.manual_editor(df_expanded,df_toc_final,file_name,standard_header,parser_auto=dict_) "
   ]
  },
  {
   "cell_type": "code",
   "execution_count": 18,
   "metadata": {},
   "outputs": [],
   "source": [
    "# example only: change the parser mode and matcher mode for image pdf\n",
    "# file_name = 'Liverpool_Victoria_Insurance_Company_Ltd_Annual_Report_2017_text'\n",
    "# df_toc_final2 = Parser.manual_editor(df_expanded,df_toc_final,file_name,standard_header,parser='str',matcher='loose')"
   ]
  },
  {
   "cell_type": "code",
   "execution_count": 22,
   "metadata": {},
   "outputs": [],
   "source": [
    "#Export 10 files to validate the parsing outcome\n",
    "# df_val = df_toc_final['indexed_page_dict'].copy().sample(10)\n",
    "# df_val.to_excel('/project/Data/toc_validation.xlsx',encoding='utf-8')"
   ]
  },
  {
   "cell_type": "markdown",
   "metadata": {},
   "source": [
    "### 1.2.6 Assign Headings to Each Page by New TOC Dictionaries"
   ]
  },
  {
   "cell_type": "code",
   "execution_count": 25,
   "metadata": {},
   "outputs": [],
   "source": [
    "df_expanded['header'] = df_expanded.apply(lambda x: \n",
    "                                          Parser.retrieve_header(x.file_name,\n",
    "                                                          x.page_number,\n",
    "                                                         x.total_page,\n",
    "                                                         df_toc_final),axis=1 )"
   ]
  },
  {
   "cell_type": "code",
   "execution_count": 26,
   "metadata": {},
   "outputs": [],
   "source": [
    "df_sections = df_expanded.loc[:,['file_name','firm_name','year','source_type',\n",
    "                                 'total_page','page_number','raw_text','header']].copy()"
   ]
  },
  {
   "cell_type": "markdown",
   "metadata": {},
   "source": [
    "## 1.3 Modify File Names and Check the Number of Samples "
   ]
  },
  {
   "cell_type": "code",
   "execution_count": 27,
   "metadata": {},
   "outputs": [],
   "source": [
    "#added on 0820 check the number of samples included\n",
    "regex_firm = r'''.+(?=_Annual|_Climate|_Sustainability|_CR|_Programme|_Response|_sSociety|_Responsible|_ESG|_Environment|_Integrated|_Emission|_Our|_CSR|_Corporate)'''\n",
    "df_sections['firm_name'] = df_sections.file_name.apply(lambda x:\n",
    "                               re.findall(regex_firm,x)[0] if len(re.findall(regex_firm,x))>0 else np.nan)\n",
    "\n",
    "df_sections['year'] = df_sections.file_name.apply(lambda x:\n",
    "                         re.findall(r'\\d{4}(?=[a-z]{0,1}_text)',x)[0])\n",
    "df_sections.loc[df_sections['firm_name']=='QBE_Insurance_Group Ltd',\n",
    "                         'firm_name'] = 'QBE_Insurance_Group'\n",
    "df_sections.loc[df_sections['firm_name']=='QBE_Our_Approachto',\n",
    "                         'firm_name'] = 'QBE_Insurance_Group'\n",
    "df_sections.loc[df_sections['firm_name']=='Aviva_Plc_Programme_Response',\n",
    "                         'firm_name'] = 'Aviva_Plc'\n",
    "df_sections.loc[df_sections['firm_name']=='Aviva_Plc_Response_to',\n",
    "                         'firm_name'] = 'Aviva_Plc'\n",
    "banking = ['Barclays_Plc', 'HSBC_Holdings_Plc', \n",
    "           'Lloyds_Banking_Group', 'Standard_Chartered_Plc', 'Nationwide_Building_Society', \n",
    "           'Santander_UK_Group_Holdings_Plc', 'Virgin_Money_Plc',\n",
    "           'Royal_Bank_of_Scotland_Group_Plc', 'Yorkshire_Building_Society',\n",
    "           'Coventry_Building_Society']  \n",
    "insuarance = ['Aviva_International_Ltd', 'Aviva_Insurance_Ltd',\n",
    "              'AIG_Europe_Ltd', 'Royal_&_Sun_Alliance_Insurance_Plc',\n",
    "              'Direct_Line_Group', 'Chubb_European_Group_Ltd',\n",
    "              'Bupa_Insurance_Ltd', 'Axa_Insurance_UK_Plc',\n",
    "              'Allianz_Insurance_Plc', 'XL_Catlin',\n",
    "              'Axa_PPP_Healthcare_Ltd', 'Ageas_Insurance_Ltd', \n",
    "              'QBE_Insurance', 'NFU_Mutual', \n",
    "              'Liverpool_Victoria_Insurance_Company_Ltd', 'Aspen_Insurance_UK_Ltd', \n",
    "              'British_Gas_Insurance_Ltd', 'Liberty_Mutual_Insurance_Europe_Ltd',\n",
    "              'Chubb_Insurance_Company_of_Europe', 'Covea_Insurance_Plc']\n",
    "df_sections['from_firm_list'] = df_sections.firm_name.apply(lambda x: 1 if x in banking+insuarance else 0)\n",
    "df_sections['Sector'] = df_sections.firm_name.apply(lambda x: 'Banking' if x in banking else \"Insurance\")"
   ]
  },
  {
   "cell_type": "code",
   "execution_count": 28,
   "metadata": {},
   "outputs": [],
   "source": [
    "df_other_expanded['firm_name'] = df_other_expanded.file_name.apply(lambda x:\n",
    "                               re.findall(regex_firm,x)[0] if len(re.findall(regex_firm,x))>0 else np.nan)\n",
    "\n",
    "df_other_expanded['year'] = df_other_expanded.file_name.apply(lambda x:\n",
    "                         re.findall(r'\\d{4}(?=[a-z]{0,1}_text)',x)[0])\n",
    "df_other_expanded.loc[df_other_expanded['firm_name']=='QBE_Insurance_Group Ltd',\n",
    "                         'firm_name'] = 'QBE_Insurance_Group'\n",
    "df_other_expanded.loc[df_other_expanded['firm_name']=='QBE_Our_Approachto',\n",
    "                         'firm_name'] = 'QBE_Insurance_Group'\n",
    "df_other_expanded.loc[df_other_expanded['firm_name']=='Aviva_Plc_Programme_Response',\n",
    "                         'firm_name'] = 'Aviva_Plc'\n",
    "df_other_expanded.loc[df_other_expanded['firm_name']=='Aviva_Plc_Response_to',\n",
    "                         'firm_name'] = 'Aviva_Plc'\n",
    "df_other_expanded['from_firm_list'] = df_other_expanded.firm_name.apply(lambda x: 1 if x in banking+insuarance else 0)\n",
    "df_other_expanded['Sector'] = df_other_expanded.firm_name.apply(lambda x: 'Banking' if x in banking else \"Insurance\")"
   ]
  },
  {
   "cell_type": "code",
   "execution_count": 25,
   "metadata": {},
   "outputs": [],
   "source": [
    "tmp1 = df_sections[df_sections['from_firm_list']==1].drop_duplicates(subset=['file_name'])\n",
    "tmp2 = df_other_expanded[df_other_expanded['from_firm_list']==1].drop_duplicates(subset=['file_name'])"
   ]
  },
  {
   "cell_type": "code",
   "execution_count": 26,
   "metadata": {},
   "outputs": [
    {
     "data": {
      "text/plain": [
       "(109, 10)"
      ]
     },
     "execution_count": 26,
     "metadata": {},
     "output_type": "execute_result"
    }
   ],
   "source": [
    "tmp1.shape"
   ]
  },
  {
   "cell_type": "code",
   "execution_count": 27,
   "metadata": {},
   "outputs": [
    {
     "data": {
      "text/plain": [
       "(30, 10)"
      ]
     },
     "execution_count": 27,
     "metadata": {},
     "output_type": "execute_result"
    }
   ],
   "source": [
    "tmp2.shape"
   ]
  },
  {
   "cell_type": "code",
   "execution_count": 42,
   "metadata": {},
   "outputs": [
    {
     "data": {
      "text/plain": [
       "(29, 12)"
      ]
     },
     "execution_count": 42,
     "metadata": {},
     "output_type": "execute_result"
    }
   ],
   "source": [
    "tmp1.drop_duplicates(subset=['firm_name']).shape"
   ]
  },
  {
   "cell_type": "code",
   "execution_count": 39,
   "metadata": {},
   "outputs": [],
   "source": [
    "df_other_expanded = df_other_expanded[df_other_expanded['from_firm_list']==1]"
   ]
  },
  {
   "cell_type": "markdown",
   "metadata": {},
   "source": [
    "# 2. Sample Selection"
   ]
  },
  {
   "cell_type": "markdown",
   "metadata": {},
   "source": [
    "## 2.1 Text Pre-processing"
   ]
  },
  {
   "cell_type": "code",
   "execution_count": 40,
   "metadata": {},
   "outputs": [],
   "source": [
    "# combined annual reports and other reports together\n",
    "df_sections['report_type'] = 'Annual'\n",
    "df_other_expanded['report_type'] = 'Other'\n",
    "df_all = pd.concat([df_sections,df_other_expanded],join='outer',ignore_index=True)"
   ]
  },
  {
   "cell_type": "code",
   "execution_count": 42,
   "metadata": {},
   "outputs": [],
   "source": [
    "df_all['text_only'] = df_all.raw_text.apply(lambda x: re.sub('[^a-zA-Z ]',' ',x))"
   ]
  },
  {
   "cell_type": "code",
   "execution_count": 43,
   "metadata": {},
   "outputs": [],
   "source": [
    "import spacy\n",
    "import re\n",
    "from joblib import Parallel, delayed"
   ]
  },
  {
   "cell_type": "code",
   "execution_count": 44,
   "metadata": {},
   "outputs": [
    {
     "name": "stdout",
     "output_type": "stream",
     "text": [
      "Model not found. Downloading.\n",
      "\u001b[38;5;2m✔ Download and installation successful\u001b[0m\n",
      "You can now load the model via spacy.load('en_core_web_md')\n"
     ]
    }
   ],
   "source": [
    "try:\n",
    "    nlp = spacy.load(\"en_core_web_md\")\n",
    "except OSError:\n",
    "    import spacy.cli \n",
    "    print(\"Model not found. Downloading.\")\n",
    "    spacy.cli.download(\"en_core_web_md\")\n",
    "    import en_core_web_md\n",
    "    nlp = en_core_web_md.load()\n",
    "    \n",
    "nlp = spacy.load('en_core_web_md', disable=['tagger', 'parser', 'ner'])"
   ]
  },
  {
   "cell_type": "code",
   "execution_count": 45,
   "metadata": {},
   "outputs": [],
   "source": [
    "all_stopwords = nlp.Defaults.stop_words"
   ]
  },
  {
   "cell_type": "code",
   "execution_count": 46,
   "metadata": {},
   "outputs": [],
   "source": [
    "# joblib pipeline to speed up tokenisation, lemmetisation and removing stopwords \n",
    "def lemmatize_pipe(doc):\n",
    "    lemma_list = [str(tok.lemma_).lower() for tok in doc\n",
    "                  if tok.text.lower() not in all_stopwords]\n",
    "\n",
    "    return lemma_list\n",
    "\n",
    "def preprocess_pipe(texts):\n",
    "    preproc_pipe = []\n",
    "    for doc in nlp.pipe(texts, batch_size=20):\n",
    "        preproc_pipe.append(lemmatize_pipe(doc))\n",
    "    return preproc_pipe\n",
    "def chunker(iterable, total_length, chunksize):\n",
    "    return (iterable[pos: pos + chunksize] for pos in range(0, total_length, chunksize))\n",
    "\n",
    "def flatten(list_of_lists):\n",
    "    \"Flatten a list of lists to a combined list\"\n",
    "    return [item for sublist in list_of_lists for item in sublist]\n",
    "\n",
    "def process_chunk(texts):\n",
    "    preproc_pipe = []\n",
    "    for doc in nlp.pipe(texts, batch_size=20):\n",
    "        preproc_pipe.append(lemmatize_pipe(doc))\n",
    "    return preproc_pipe\n",
    "\n",
    "def preprocess_parallel(texts, chunksize=100):\n",
    "    executor = Parallel(n_jobs=7, backend='multiprocessing', prefer=\"processes\")\n",
    "    do = delayed(process_chunk) # the operation piece\n",
    "    tasks = (do(chunk) for chunk in chunker(texts, len(texts), chunksize=chunksize))\n",
    "    result = executor(tasks)\n",
    "    return flatten(result)"
   ]
  },
  {
   "cell_type": "code",
   "execution_count": 47,
   "metadata": {},
   "outputs": [],
   "source": [
    "#generate lemmetised tokens\n",
    "df_all['tokens'] = preprocess_parallel(df_all['text_only'], chunksize=100)\n",
    "df_all['tokens'] = df_all.tokens.apply(lambda x: [ tok for tok in x if len(tok.replace(' ',''))>2])"
   ]
  },
  {
   "cell_type": "code",
   "execution_count": 49,
   "metadata": {},
   "outputs": [],
   "source": [
    "df_all['num_of_words'] = df_all.tokens.apply(lambda x: len(x))"
   ]
  },
  {
   "cell_type": "markdown",
   "metadata": {},
   "source": [
    "## 2.2 Explorstory Analysis "
   ]
  },
  {
   "cell_type": "code",
   "execution_count": 50,
   "metadata": {},
   "outputs": [],
   "source": [
    "climate_keywords = ['biodiversity','carbon','climate','ecology',\n",
    "               'environment','emission','pollution','sustainable',\n",
    "              'environmental','esg','tcfd','sustainability','green']"
   ]
  },
  {
   "cell_type": "code",
   "execution_count": 52,
   "metadata": {},
   "outputs": [],
   "source": [
    "search_string = r'|'.join(climate_keywords)\n",
    "df_all['keyword_count_string'] = df_all.raw_text.apply(lambda x: len(re.findall(search_string,x.lower())))"
   ]
  },
  {
   "cell_type": "code",
   "execution_count": 65,
   "metadata": {},
   "outputs": [],
   "source": [
    "df_all['contains_kw'] = 0\n",
    "df_all.loc[df_all['keyword_count_string']>0,'contains_kw'] = 1"
   ]
  },
  {
   "cell_type": "code",
   "execution_count": 58,
   "metadata": {},
   "outputs": [],
   "source": [
    "df_all['ratio_climate_kw'] = df_all['keyword_count_string']/df_all['num_of_words']"
   ]
  },
  {
   "cell_type": "code",
   "execution_count": 66,
   "metadata": {},
   "outputs": [],
   "source": [
    "import matplotlib.pyplot as plt\n",
    "import seaborn as sns\n",
    "sns.set_style(\"whitegrid\") \n",
    "%matplotlib inline"
   ]
  },
  {
   "cell_type": "code",
   "execution_count": 112,
   "metadata": {},
   "outputs": [],
   "source": [
    "annual = (df_all['report_type'] == 'Annual')\n",
    "other = (df_all['report_type'] == 'Other')\n",
    "climate = (df_all['contains_kw']==1)"
   ]
  },
  {
   "cell_type": "markdown",
   "metadata": {},
   "source": [
    "### 2.2.1 Number of Pages in Different Types of Report"
   ]
  },
  {
   "cell_type": "code",
   "execution_count": 176,
   "metadata": {},
   "outputs": [
    {
     "data": {
      "image/png": "[encoded data removed]",
      "text/plain": [
       "<Figure size 1440x720 with 1 Axes>"
      ]
     },
     "metadata": {
      "needs_background": "light"
     },
     "output_type": "display_data"
    }
   ],
   "source": [
    "page_a = df_all.loc[annual,['file_name','total_page','firm_name']].drop_duplicates(subset=['file_name'])\n",
    "fig, ax = plt.subplots(figsize=(20,10))\n",
    "sns.distplot(page_a.total_page,bins=20,kde=False, color=\"Teal\")\n",
    "ax.text(350,23,\n",
    "        'Mean: {:1.0f}'.format(page_a.total_page.mean()),\n",
    "       fontsize=22)\n",
    "ax.text(350,21,\n",
    "        'Std: {:1.0f}'.format(page_a.total_page.std()),\n",
    "       fontsize=22)\n",
    "ax.text(350,19,\n",
    "        'Number of Reports: {:1.0f}'.format(page_a.shape[0]),\n",
    "       fontsize=22)\n",
    "ax.text(350,17,\n",
    "        'Number of Firms: {:1.0f}'.format(len(page_a['firm_name'].unique())),\n",
    "       fontsize=22)\n",
    "fig.suptitle('Figure: Distribution of Total Page Number in Annual Report')\n",
    "plt.rc('axes', titlesize=22)\n",
    "plt.rc('ytick', labelsize=22)\n",
    "plt.rc('xtick', labelsize=22)\n",
    "\n",
    "plt.show()"
   ]
  },
  {
   "cell_type": "code",
   "execution_count": 175,
   "metadata": {
    "scrolled": true
   },
   "outputs": [
    {
     "data": {
      "image/png": "[encoded data removed]",
      "text/plain": [
       "<Figure size 1440x720 with 1 Axes>"
      ]
     },
     "metadata": {
      "needs_background": "light"
     },
     "output_type": "display_data"
    }
   ],
   "source": [
    "page_b = df_all.loc[other,['file_name','total_page','firm_name']].drop_duplicates(subset=['file_name'])\n",
    "fig, ax = plt.subplots(figsize=(20,10))\n",
    "sns.distplot(page_b.total_page,bins=20,kde=False, color=\"Teal\")\n",
    "ax.text(90,6.5,\n",
    "        'Mean: {:1.0f}'.format(page_b.total_page.mean()),\n",
    "       fontsize=22)\n",
    "ax.text(90,6.0,\n",
    "        'Std: {:1.0f}'.format(page_b.total_page.std()),\n",
    "       fontsize=22)\n",
    "ax.text(90,5.5,\n",
    "        'Number of Reports: {:1.0f}'.format(page_b.shape[0]),\n",
    "       fontsize=22)\n",
    "ax.text(90,5,\n",
    "        'Number of Firms: {:1.0f}'.format(len(page_b['firm_name'].unique())),\n",
    "       fontsize=22)\n",
    "fig.suptitle('Figure: Distribution of Total Page Number in Other Report')\n",
    "plt.rc('axes', titlesize=22)\n",
    "plt.rc('ytick', labelsize=22)\n",
    "plt.rc('xtick', labelsize=22)\n",
    "\n",
    "plt.show()"
   ]
  },
  {
   "cell_type": "markdown",
   "metadata": {},
   "source": [
    "### 2.2.2 Compare total page number with number of page that contains climate kw"
   ]
  },
  {
   "cell_type": "code",
   "execution_count": 160,
   "metadata": {},
   "outputs": [],
   "source": [
    "# Compare total page number with number of page that contains climate kw\n",
    "df_page_compare = pd.DataFrame(columns=['Report Type','Climate','Page Counts'])\n",
    "page_a = df_all.loc[annual&climate,['total_page','file_name']].groupby(['file_name']).count()\n",
    "df_page_compare = df_page_compare.append({'Report Type':'Annual Report',\n",
    "                                         'Climate':'Contains Climate-related Keywords',\n",
    "                                          'Page Counts':page_a.total_page.sum()},ignore_index=True )\n",
    "page_b = df_all.loc[other&climate,['total_page','file_name']].groupby(['file_name']).count()\n",
    "df_page_compare = df_page_compare.append({'Report Type':'Other Report',\n",
    "                                         'Climate':'Contains Climate-related Keywords',\n",
    "                                          'Page Counts':page_b.total_page.sum()},ignore_index=True)"
   ]
  },
  {
   "cell_type": "code",
   "execution_count": 161,
   "metadata": {},
   "outputs": [],
   "source": [
    "page_a = df_all.loc[annual,['file_name','total_page','firm_name']].drop_duplicates(subset=['file_name'])\n",
    "df_page_compare = df_page_compare.append({'Report Type':'Annual Report',\n",
    "                                         'Climate':'All',\n",
    "                                          'Page Counts':page_a.total_page.sum()},ignore_index=True)\n",
    "page_b = df_all.loc[other,['file_name','total_page','firm_name']].drop_duplicates(subset=['file_name'])\n",
    "df_page_compare = df_page_compare.append({'Report Type':'Other Report',\n",
    "                                         'Climate':'All',\n",
    "                                          'Page Counts':page_b.total_page.sum()},ignore_index=True)"
   ]
  },
  {
   "cell_type": "code",
   "execution_count": 164,
   "metadata": {},
   "outputs": [],
   "source": [
    "df_page_compare.rename(columns={'Climate':'Page Type'},inplace=True)"
   ]
  },
  {
   "cell_type": "code",
   "execution_count": 168,
   "metadata": {},
   "outputs": [
    {
     "data": {
      "image/png": "[encoded data removed]",
      "text/plain": [
       "<Figure size 1440x720 with 1 Axes>"
      ]
     },
     "metadata": {
      "needs_background": "light"
     },
     "output_type": "display_data"
    }
   ],
   "source": [
    "fig, ax = plt.subplots(figsize=(20,10))\n",
    "sns.barplot(x='Report Type',y='Page Counts',hue_order=['All','Contains Climate-related Keywords'],\n",
    "            data=df_page_compare,hue='Page Type',palette = 'GnBu_d' )\n",
    "plt.rc('legend',fontsize=22)\n",
    "plt.rc('legend',title_fontsize=22)\n",
    "plt.show()"
   ]
  },
  {
   "cell_type": "markdown",
   "metadata": {},
   "source": [
    "### 2.2.3 Distribution of Number of Keywords on Each Page"
   ]
  },
  {
   "cell_type": "code",
   "execution_count": 180,
   "metadata": {},
   "outputs": [
    {
     "data": {
      "image/png": "[encoded data removed]",
      "text/plain": [
       "<Figure size 1440x720 with 1 Axes>"
      ]
     },
     "metadata": {
      "needs_background": "light"
     },
     "output_type": "display_data"
    }
   ],
   "source": [
    "kw = df_all.loc[df_all['contains_kw']>0,'keyword_count_string'].copy()\n",
    "kw.rename('Keyword Counts',inplace=True)\n",
    "fig, ax = plt.subplots(figsize=(20,10))\n",
    "sns.distplot(kw,bins=50,kde=False, color=\"Teal\")\n",
    "plt.rc('axes', titlesize=22)\n",
    "plt.rc('ytick', labelsize=22)\n",
    "plt.rc('xtick', labelsize=22)\n",
    "\n",
    "plt.show()"
   ]
  },
  {
   "cell_type": "markdown",
   "metadata": {},
   "source": [
    "## 2.3 Retain Only the Page that Contains Keywords to Scope down the Search Range for Climate-related Content"
   ]
  },
  {
   "cell_type": "code",
   "execution_count": 27,
   "metadata": {},
   "outputs": [],
   "source": [
    "climate_keywords = ['biodiversity','carbon','climate','ecology',\n",
    "               'environment','emission','pollution','sustainable',\n",
    "              'environmental','esg','tcfd','sustainability','green']"
   ]
  },
  {
   "cell_type": "markdown",
   "metadata": {},
   "source": [
    "### 2.3.1 Annual Reports"
   ]
  },
  {
   "cell_type": "code",
   "execution_count": 28,
   "metadata": {},
   "outputs": [],
   "source": [
    "df_sections['raw_text_lower'] = df_sections['raw_text'].str.lower()"
   ]
  },
  {
   "cell_type": "code",
   "execution_count": 29,
   "metadata": {},
   "outputs": [],
   "source": [
    "search_string = r'|'.join(climate_keywords)\n",
    "df_sections['keyword_count'] = df_sections.raw_text_lower.apply(lambda x: len(re.findall(search_string,x)))"
   ]
  },
  {
   "cell_type": "code",
   "execution_count": 32,
   "metadata": {},
   "outputs": [
    {
     "data": {
      "text/html": [
       "<div>\n",
       "<style scoped>\n",
       "    .dataframe tbody tr th:only-of-type {\n",
       "        vertical-align: middle;\n",
       "    }\n",
       "\n",
       "    .dataframe tbody tr th {\n",
       "        vertical-align: top;\n",
       "    }\n",
       "\n",
       "    .dataframe thead th {\n",
       "        text-align: right;\n",
       "    }\n",
       "</style>\n",
       "<table border=\"1\" class=\"dataframe\">\n",
       "  <thead>\n",
       "    <tr style=\"text-align: right;\">\n",
       "      <th></th>\n",
       "      <th>total_page</th>\n",
       "      <th>page_number</th>\n",
       "      <th>keyword_count</th>\n",
       "    </tr>\n",
       "  </thead>\n",
       "  <tbody>\n",
       "    <tr>\n",
       "      <th>count</th>\n",
       "      <td>16457.000000</td>\n",
       "      <td>16457.000000</td>\n",
       "      <td>16457.000000</td>\n",
       "    </tr>\n",
       "    <tr>\n",
       "      <th>mean</th>\n",
       "      <td>241.000486</td>\n",
       "      <td>121.000243</td>\n",
       "      <td>0.810901</td>\n",
       "    </tr>\n",
       "    <tr>\n",
       "      <th>std</th>\n",
       "      <td>118.209189</td>\n",
       "      <td>97.458287</td>\n",
       "      <td>3.131511</td>\n",
       "    </tr>\n",
       "    <tr>\n",
       "      <th>min</th>\n",
       "      <td>15.000000</td>\n",
       "      <td>1.000000</td>\n",
       "      <td>0.000000</td>\n",
       "    </tr>\n",
       "    <tr>\n",
       "      <th>25%</th>\n",
       "      <td>156.000000</td>\n",
       "      <td>39.000000</td>\n",
       "      <td>0.000000</td>\n",
       "    </tr>\n",
       "    <tr>\n",
       "      <th>50%</th>\n",
       "      <td>262.000000</td>\n",
       "      <td>96.000000</td>\n",
       "      <td>0.000000</td>\n",
       "    </tr>\n",
       "    <tr>\n",
       "      <th>75%</th>\n",
       "      <td>328.000000</td>\n",
       "      <td>185.000000</td>\n",
       "      <td>0.000000</td>\n",
       "    </tr>\n",
       "    <tr>\n",
       "      <th>max</th>\n",
       "      <td>480.000000</td>\n",
       "      <td>480.000000</td>\n",
       "      <td>66.000000</td>\n",
       "    </tr>\n",
       "  </tbody>\n",
       "</table>\n",
       "</div>"
      ],
      "text/plain": [
       "         total_page   page_number  keyword_count\n",
       "count  16457.000000  16457.000000   16457.000000\n",
       "mean     241.000486    121.000243       0.810901\n",
       "std      118.209189     97.458287       3.131511\n",
       "min       15.000000      1.000000       0.000000\n",
       "25%      156.000000     39.000000       0.000000\n",
       "50%      262.000000     96.000000       0.000000\n",
       "75%      328.000000    185.000000       0.000000\n",
       "max      480.000000    480.000000      66.000000"
      ]
     },
     "execution_count": 32,
     "metadata": {},
     "output_type": "execute_result"
    }
   ],
   "source": [
    "df_sections.describe() #16457 pages in original annual report"
   ]
  },
  {
   "cell_type": "code",
   "execution_count": 33,
   "metadata": {},
   "outputs": [],
   "source": [
    "#1 select the page where at least one of the keyword occurs #no need to lemmatize first\n",
    "df_climate = df_sections[df_sections['keyword_count']>0].copy()"
   ]
  },
  {
   "cell_type": "code",
   "execution_count": 34,
   "metadata": {
    "scrolled": true
   },
   "outputs": [
    {
     "data": {
      "text/html": [
       "<div>\n",
       "<style scoped>\n",
       "    .dataframe tbody tr th:only-of-type {\n",
       "        vertical-align: middle;\n",
       "    }\n",
       "\n",
       "    .dataframe tbody tr th {\n",
       "        vertical-align: top;\n",
       "    }\n",
       "\n",
       "    .dataframe thead th {\n",
       "        text-align: right;\n",
       "    }\n",
       "</style>\n",
       "<table border=\"1\" class=\"dataframe\">\n",
       "  <thead>\n",
       "    <tr style=\"text-align: right;\">\n",
       "      <th></th>\n",
       "      <th>total_page</th>\n",
       "      <th>page_number</th>\n",
       "      <th>keyword_count</th>\n",
       "    </tr>\n",
       "  </thead>\n",
       "  <tbody>\n",
       "    <tr>\n",
       "      <th>count</th>\n",
       "      <td>3936.000000</td>\n",
       "      <td>3936.000000</td>\n",
       "      <td>3936.000000</td>\n",
       "    </tr>\n",
       "    <tr>\n",
       "      <th>mean</th>\n",
       "      <td>266.622205</td>\n",
       "      <td>87.351118</td>\n",
       "      <td>3.390498</td>\n",
       "    </tr>\n",
       "    <tr>\n",
       "      <th>std</th>\n",
       "      <td>105.827016</td>\n",
       "      <td>85.133737</td>\n",
       "      <td>5.679916</td>\n",
       "    </tr>\n",
       "    <tr>\n",
       "      <th>min</th>\n",
       "      <td>15.000000</td>\n",
       "      <td>2.000000</td>\n",
       "      <td>1.000000</td>\n",
       "    </tr>\n",
       "    <tr>\n",
       "      <th>25%</th>\n",
       "      <td>196.000000</td>\n",
       "      <td>24.000000</td>\n",
       "      <td>1.000000</td>\n",
       "    </tr>\n",
       "    <tr>\n",
       "      <th>50%</th>\n",
       "      <td>278.000000</td>\n",
       "      <td>62.000000</td>\n",
       "      <td>2.000000</td>\n",
       "    </tr>\n",
       "    <tr>\n",
       "      <th>75%</th>\n",
       "      <td>341.000000</td>\n",
       "      <td>124.000000</td>\n",
       "      <td>3.000000</td>\n",
       "    </tr>\n",
       "    <tr>\n",
       "      <th>max</th>\n",
       "      <td>480.000000</td>\n",
       "      <td>479.000000</td>\n",
       "      <td>66.000000</td>\n",
       "    </tr>\n",
       "  </tbody>\n",
       "</table>\n",
       "</div>"
      ],
      "text/plain": [
       "        total_page  page_number  keyword_count\n",
       "count  3936.000000  3936.000000    3936.000000\n",
       "mean    266.622205    87.351118       3.390498\n",
       "std     105.827016    85.133737       5.679916\n",
       "min      15.000000     2.000000       1.000000\n",
       "25%     196.000000    24.000000       1.000000\n",
       "50%     278.000000    62.000000       2.000000\n",
       "75%     341.000000   124.000000       3.000000\n",
       "max     480.000000   479.000000      66.000000"
      ]
     },
     "execution_count": 34,
     "metadata": {},
     "output_type": "execute_result"
    }
   ],
   "source": [
    "df_climate.describe() #3936 #Annual Report"
   ]
  },
  {
   "cell_type": "code",
   "execution_count": 96,
   "metadata": {},
   "outputs": [],
   "source": [
    "# Export to csv files\n",
    "# df_climate.to_csv('/project/Data/new_climate_page_annual.csv',encoding = 'utf-8')"
   ]
  },
  {
   "cell_type": "markdown",
   "metadata": {},
   "source": [
    "### 2.3.2 Other Reports"
   ]
  },
  {
   "cell_type": "code",
   "execution_count": 97,
   "metadata": {},
   "outputs": [],
   "source": [
    "df_other_expanded['raw_text_lower'] = df_other_expanded['raw_text'].str.lower()\n",
    "search_string = r'|'.join(climate_keywords)\n",
    "df_other_expanded['keyword_count'] = df_other_expanded.raw_text_lower.apply(lambda x: len(re.findall(search_string,x)))"
   ]
  },
  {
   "cell_type": "code",
   "execution_count": 98,
   "metadata": {},
   "outputs": [],
   "source": [
    "df_climate2 = df_other_expanded[df_other_expanded['keyword_count']>0].copy()"
   ]
  },
  {
   "cell_type": "code",
   "execution_count": 99,
   "metadata": {},
   "outputs": [
    {
     "data": {
      "text/html": [
       "<div>\n",
       "<style scoped>\n",
       "    .dataframe tbody tr th:only-of-type {\n",
       "        vertical-align: middle;\n",
       "    }\n",
       "\n",
       "    .dataframe tbody tr th {\n",
       "        vertical-align: top;\n",
       "    }\n",
       "\n",
       "    .dataframe thead th {\n",
       "        text-align: right;\n",
       "    }\n",
       "</style>\n",
       "<table border=\"1\" class=\"dataframe\">\n",
       "  <thead>\n",
       "    <tr style=\"text-align: right;\">\n",
       "      <th></th>\n",
       "      <th>total_page</th>\n",
       "      <th>page_number</th>\n",
       "      <th>keyword_count</th>\n",
       "    </tr>\n",
       "  </thead>\n",
       "  <tbody>\n",
       "    <tr>\n",
       "      <th>count</th>\n",
       "      <td>1835.000000</td>\n",
       "      <td>1835.000000</td>\n",
       "      <td>1835.000000</td>\n",
       "    </tr>\n",
       "    <tr>\n",
       "      <th>mean</th>\n",
       "      <td>60.314441</td>\n",
       "      <td>30.605450</td>\n",
       "      <td>12.059946</td>\n",
       "    </tr>\n",
       "    <tr>\n",
       "      <th>std</th>\n",
       "      <td>33.431872</td>\n",
       "      <td>25.814416</td>\n",
       "      <td>12.143351</td>\n",
       "    </tr>\n",
       "    <tr>\n",
       "      <th>min</th>\n",
       "      <td>1.000000</td>\n",
       "      <td>1.000000</td>\n",
       "      <td>1.000000</td>\n",
       "    </tr>\n",
       "    <tr>\n",
       "      <th>25%</th>\n",
       "      <td>28.000000</td>\n",
       "      <td>10.000000</td>\n",
       "      <td>3.000000</td>\n",
       "    </tr>\n",
       "    <tr>\n",
       "      <th>50%</th>\n",
       "      <td>64.000000</td>\n",
       "      <td>22.000000</td>\n",
       "      <td>8.000000</td>\n",
       "    </tr>\n",
       "    <tr>\n",
       "      <th>75%</th>\n",
       "      <td>90.000000</td>\n",
       "      <td>46.000000</td>\n",
       "      <td>18.000000</td>\n",
       "    </tr>\n",
       "    <tr>\n",
       "      <th>max</th>\n",
       "      <td>116.000000</td>\n",
       "      <td>116.000000</td>\n",
       "      <td>78.000000</td>\n",
       "    </tr>\n",
       "  </tbody>\n",
       "</table>\n",
       "</div>"
      ],
      "text/plain": [
       "        total_page  page_number  keyword_count\n",
       "count  1835.000000  1835.000000    1835.000000\n",
       "mean     60.314441    30.605450      12.059946\n",
       "std      33.431872    25.814416      12.143351\n",
       "min       1.000000     1.000000       1.000000\n",
       "25%      28.000000    10.000000       3.000000\n",
       "50%      64.000000    22.000000       8.000000\n",
       "75%      90.000000    46.000000      18.000000\n",
       "max     116.000000   116.000000      78.000000"
      ]
     },
     "execution_count": 99,
     "metadata": {},
     "output_type": "execute_result"
    }
   ],
   "source": [
    "df_climate2.describe() #1835"
   ]
  },
  {
   "cell_type": "code",
   "execution_count": 100,
   "metadata": {},
   "outputs": [],
   "source": [
    "# df_climate2.to_csv('/project/Data/new_climate_page_other.csv',encoding = 'utf-8')"
   ]
  },
  {
   "cell_type": "markdown",
   "metadata": {},
   "source": [
    "# 3. Sample Data for Manual Labelling"
   ]
  },
  {
   "cell_type": "code",
   "execution_count": null,
   "metadata": {},
   "outputs": [],
   "source": [
    "# the page that contains at least one of the key word\n",
    "df_1 = pd.read_csv('/project/Data/new_climate_page_annual.csv',index_col=0,encoding = 'utf-8')\n",
    "df_2 = pd.read_csv('/project/Data/new_climate_page_other.csv',index_col=0,encoding = 'utf-8')"
   ]
  },
  {
   "cell_type": "code",
   "execution_count": null,
   "metadata": {},
   "outputs": [],
   "source": [
    "df_1['report_type'] = 'Annual'\n",
    "df_2['report_type'] = 'Other'"
   ]
  },
  {
   "cell_type": "code",
   "execution_count": null,
   "metadata": {},
   "outputs": [],
   "source": [
    "#Combine all dataframe\n",
    "df_all = pd.concat([df_1,df_2],join='outer',ignore_index=True)"
   ]
  },
  {
   "cell_type": "code",
   "execution_count": null,
   "metadata": {},
   "outputs": [],
   "source": [
    "# modify file names\n",
    "regex_firm = r'''.+(?=_Annual|_Climate|_Sustainability|_CR|_Programme|_Response|_sSociety|_Responsible|_ESG|_Environment|_Integrated|_Emission|_Our|_CSR|_Corporate)'''\n",
    "df_all['firm_name'] = df_all.file_name.apply(lambda x:\n",
    "                               re.findall(regex_firm,x)[0] if len(re.findall(regex_firm,x))>0 else np.nan)\n",
    "\n",
    "df_all['year'] = df_all.file_name.apply(lambda x:\n",
    "                         re.findall(r'\\d{4}(?=[a-z]{0,1}_text)',x)[0])\n",
    "df_all.loc[df_all['firm_name']=='QBE_Insurance_Group Ltd',\n",
    "                         'firm_name'] = 'QBE_Insurance_Group'\n",
    "df_all.loc[df_all['firm_name']=='QBE_Our_Approachto',\n",
    "                         'firm_name'] = 'QBE_Insurance_Group'\n",
    "df_all.loc[df_all['firm_name']=='Aviva_Plc_Programme_Response',\n",
    "                         'firm_name'] = 'Aviva_Plc'\n",
    "df_all.loc[df_all['firm_name']=='Aviva_Plc_Response_to',\n",
    "                         'firm_name'] = 'Aviva_Plc'\n",
    "banking = ['Barclays_Plc', 'HSBC_Holdings_Plc', \n",
    "           'Lloyds_Banking_Group', 'Standard_Chartered_Plc', 'Nationwide_Building_Society', \n",
    "           'Santander_UK_Group_Holdings_Plc', 'Virgin_Money_Plc',\n",
    "           'Royal_Bank_of_Scotland_Group_Plc', 'Yorkshire_Building_Society',\n",
    "           'Coventry_Building_Society']  \n",
    "insuarance = ['Aviva_International_Ltd', 'Aviva_Insurance_Ltd',\n",
    "              'AIG_Europe_Ltd', 'Royal_&_Sun_Alliance_Insurance_Plc',\n",
    "              'Direct_Line_Group', 'Chubb_European_Group_Ltd',\n",
    "              'Bupa_Insurance_Ltd', 'Axa_Insurance_UK_Plc',\n",
    "              'Allianz_Insurance_Plc', 'XL_Catlin',\n",
    "              'Axa_PPP_Healthcare_Ltd', 'Ageas_Insurance_Ltd', \n",
    "              'QBE_Insurance', 'NFU_Mutual', \n",
    "              'Liverpool_Victoria_Insurance_Company_Ltd', 'Aspen_Insurance_UK_Ltd', \n",
    "              'British_Gas_Insurance_Ltd', 'Liberty_Mutual_Insurance_Europe_Ltd',\n",
    "              'Chubb_Insurance_Company_of_Europe', 'Covea_Insurance_Plc']\n",
    "df_all['from_firm_list'] = df_all.firm_name.apply(lambda x: 1 if x in banking+insuarance else 0)\n",
    "df_all['Sector'] = df_all.firm_name.apply(lambda x: 'Banking' if x in banking else \"Insurance\")"
   ]
  },
  {
   "cell_type": "code",
   "execution_count": null,
   "metadata": {},
   "outputs": [],
   "source": [
    "# clean text\n",
    "def clean_text_lower(text):\n",
    "    #use regular expression to match potential headings/subheading \n",
    "    #print(text)\n",
    "    #1. move incompelete sentences to a single line :\n",
    "    # substitute all \\n{2,} by \\n\n",
    "    regex = '\\n{2,}'\n",
    "    text = re.sub(regex,'\\n',text)\n",
    "    # remove \\n if it is followed by a lower case letter\n",
    "    regex = '\\n(?=[a-z])'\n",
    "    text = re.sub(regex,' ',text)\n",
    "    # remove two space in a row\n",
    "    text = re.sub(' {2,}',' ',text)\n",
    "    return text.lower()"
   ]
  },
  {
   "cell_type": "code",
   "execution_count": null,
   "metadata": {},
   "outputs": [],
   "source": [
    "df_all['raw_text_clean_lower'] = df_all.raw_text.apply(clean_text_lower)\n",
    "print(df_all[df_all['from_firm_list']==1].shape)"
   ]
  },
  {
   "cell_type": "code",
   "execution_count": null,
   "metadata": {},
   "outputs": [],
   "source": [
    "# remove the page that has only one keyword and contains the following key-phrase\n",
    "stop_phrase = ['economic environment','operating environment',\n",
    "               'geopolitical environment','control environment',\n",
    "               'interest rate environment','changing environment',\n",
    "               'rate environment','technology environment'\n",
    "               'risk environment','external environment',\n",
    "               'internal environment','commercial environment ',\n",
    "               'market environment','business environment',\n",
    "               'sustainable value for shareholders','sustainable returns',\n",
    "               'sustainable dividend',\n",
    "               'sustainable capital strength',\n",
    "               'climate of low interest rates',\n",
    "              ]"
   ]
  },
  {
   "cell_type": "code",
   "execution_count": null,
   "metadata": {},
   "outputs": [],
   "source": [
    "search_string = r'|'.join(stop_phrase)\n",
    "df_all['stop_phrase_count'] = df_all.raw_text_clean_lower.apply(lambda x: len(re.findall(search_string,x)))\n",
    "# drop the page whose keyword only contains stop_phrase\n",
    "df_all_clean = df_all.loc[~(df_all['keyword_count']==df_all['stop_phrase_count']),:].copy()\n",
    "#select the page where keywords appear at least once\n",
    "df_all_clean = df_all_clean.loc[df_all['keyword_count']>0,:].copy()\n",
    "#keep only uk firms\n",
    "df_all_clean_page = df_all_clean[df_all_clean['from_firm_list']==1].copy() "
   ]
  },
  {
   "cell_type": "code",
   "execution_count": null,
   "metadata": {},
   "outputs": [],
   "source": [
    "df_all_clean_page['kwc_quan']= pd.qcut(df_all_clean_page['keyword_count'], 2, labels=False)\n",
    "df_sample1 = df_all_clean_page[df_all_clean_page['kwc_quan']==0].sample(n=100,random_state=0)\n",
    "df_sample2 = df_all_clean_page[df_all_clean_page['kwc_quan']==1].sample(n=200,random_state=0)#extract more high keyword count samples\n",
    "df_sample = pd.concat([df_sample1,df_sample2])"
   ]
  },
  {
   "cell_type": "code",
   "execution_count": null,
   "metadata": {},
   "outputs": [],
   "source": [
    "# df_sample.to_excel('/project/Data/0815_page_to_label.xlsx',encoding='utf-8')"
   ]
  },
  {
   "cell_type": "code",
   "execution_count": null,
   "metadata": {},
   "outputs": [],
   "source": [
    "df_all_clean_page.drop(df_sample1.index,inplace=True)\n",
    "df_all_clean_page.drop(df_sample2.index,inplace=True)\n",
    "df_sample_test = df_all_clean_page.sample(n=100,random_state=0)"
   ]
  },
  {
   "cell_type": "code",
   "execution_count": null,
   "metadata": {},
   "outputs": [],
   "source": [
    "#df_sample_test.to_excel('/project/Data/0815_page_to_label_test.xlsx',encoding='utf-8')"
   ]
  },
  {
   "cell_type": "code",
   "execution_count": null,
   "metadata": {},
   "outputs": [],
   "source": [
    "# df_all_clean_page.to_excel('/project/Data/0816_page_to_label_predict.xlsx',encoding='utf-8')"
   ]
  }
 ],
 "metadata": {
  "kernelspec": {
   "display_name": "Python [conda env:Python3]",
   "language": "python",
   "name": "conda-env-Python3-py"
  },
  "language_info": {
   "codemirror_mode": {
    "name": "ipython",
    "version": 3
   },
   "file_extension": ".py",
   "mimetype": "text/x-python",
   "name": "python",
   "nbconvert_exporter": "python",
   "pygments_lexer": "ipython3",
   "version": "3.6.10"
  }
 },
 "nbformat": 4,
 "nbformat_minor": 2
}
