{
 "cells": [
  {
   "cell_type": "code",
   "execution_count": 1,
   "metadata": {},
   "outputs": [],
   "source": [
    "import pandas as pd\n",
    "import numpy as np\n",
    "import matplotlib.pyplot as plt\n",
    "import re"
   ]
  },
  {
   "cell_type": "code",
   "execution_count": 3,
   "metadata": {},
   "outputs": [],
   "source": [
    "df = pd.read_excel('/project/Data/0815_page_to_label (2)_new.xlsx',encoding='utf-8',index_col=0)\n",
    "df_test = pd.read_excel('/project/Data/0815_page_to_label_test_new.xlsx',encoding='utf-8',index_col=0)"
   ]
  },
  {
   "cell_type": "code",
   "execution_count": 4,
   "metadata": {},
   "outputs": [],
   "source": [
    "df_predict = pd.read_excel('/project/Data/0816_page_to_label_predict.xlsx',encoding='utf-8',index_col=0)"
   ]
  },
  {
   "cell_type": "code",
   "execution_count": 5,
   "metadata": {},
   "outputs": [
    {
     "data": {
      "text/plain": [
       "(3819, 16)"
      ]
     },
     "execution_count": 5,
     "metadata": {},
     "output_type": "execute_result"
    }
   ],
   "source": [
    "df_predict.shape"
   ]
  },
  {
   "cell_type": "code",
   "execution_count": 6,
   "metadata": {},
   "outputs": [],
   "source": [
    "df_predict['row'] = df_predict.index"
   ]
  },
  {
   "cell_type": "code",
   "execution_count": 7,
   "metadata": {},
   "outputs": [],
   "source": [
    "df_predict['Climate'] = np.nan"
   ]
  },
  {
   "cell_type": "code",
   "execution_count": 8,
   "metadata": {},
   "outputs": [],
   "source": [
    "def get_label(df1,df2,index,ori_label):\n",
    "    if index in df1.index:\n",
    "        return df1.loc[index,'Climate']\n",
    "    elif index in df2.index:\n",
    "        return df2.loc[index,'Climate']\n",
    "    else:\n",
    "        return ori_label\n",
    "    "
   ]
  },
  {
   "cell_type": "code",
   "execution_count": 9,
   "metadata": {},
   "outputs": [],
   "source": [
    "#get manual label for df and df_test\n",
    "df_predict['Climate'] = df_predict.apply(lambda x: get_label(df,df_test,x.row,x.Climate),axis=1)"
   ]
  },
  {
   "cell_type": "code",
   "execution_count": 10,
   "metadata": {},
   "outputs": [
    {
     "data": {
      "text/plain": [
       "0.0    0.513333\n",
       "0.5    0.276667\n",
       "1.0    0.136667\n",
       "0.1    0.073333\n",
       "Name: Climate, dtype: float64"
      ]
     },
     "execution_count": 10,
     "metadata": {},
     "output_type": "execute_result"
    }
   ],
   "source": [
    "df.Climate.value_counts(True)"
   ]
  },
  {
   "cell_type": "markdown",
   "metadata": {},
   "source": [
    "# 1. Data cleaning:\n",
    "1. Remove all the url in the raw text\n",
    "2. Keep only letters and numbers\n",
    "3. Keep only one whitespace should there be multiple whitespaces in a row\n",
    "4. Remove all the \"stop phrases\" which are indentified previously"
   ]
  },
  {
   "cell_type": "code",
   "execution_count": 11,
   "metadata": {},
   "outputs": [],
   "source": [
    "def remove_link(text):\n",
    "    type_list = [r'https://[^\\s]+','http://[^\\s]+',r'www\\.[^\\s]+',\n",
    "                 r'[^\\s]+\\.html','[^\\s]+@[^\\s]+','[^\\s]+\\.com[^\\s]+']\n",
    "    for t in type_list:\n",
    "        text = re.sub(t,'',text)\n",
    "    return text"
   ]
  },
  {
   "cell_type": "code",
   "execution_count": 12,
   "metadata": {},
   "outputs": [],
   "source": [
    "df['clean_text'] = df.raw_text.apply(remove_link)\n",
    "df_test['clean_text'] = df_test.raw_text.apply(remove_link)\n",
    "df_predict['clean_text'] = df_predict.raw_text.apply(remove_link)"
   ]
  },
  {
   "cell_type": "code",
   "execution_count": 13,
   "metadata": {},
   "outputs": [],
   "source": [
    "def clean_text(text):\n",
    "    text = re.sub(r'[^A-Za-z0-9 ]',' ',text)\n",
    "    text = re.sub(r' {2,}',' ',text)\n",
    "    return text"
   ]
  },
  {
   "cell_type": "code",
   "execution_count": 20,
   "metadata": {},
   "outputs": [],
   "source": [
    "df['clean_text'] = df.clean_text.apply(clean_text)\n",
    "df_test['clean_text'] = df_test.clean_text.apply(clean_text)\n",
    "df_predict['clean_text'] = df_predict.clean_text.apply(clean_text)"
   ]
  },
  {
   "cell_type": "code",
   "execution_count": 21,
   "metadata": {},
   "outputs": [],
   "source": [
    "stop_phrase = ['economic environment','operating environment',\n",
    "               'geopolitical environment','control environment',\n",
    "               'interest rate environment','changing environment',\n",
    "               'rate environment','technology environment'\n",
    "               'risk environment','external environment',\n",
    "               'internal environment','commercial environment ',\n",
    "               'market environment','business environment',\n",
    "               'regulatory environment','legal environment',\n",
    "               'macro environment','regulated environment','competitive environment',\n",
    "               'sustainable value for shareholders','sustainable return',\n",
    "               'sustainable dividend', 'sustainable cash flow'\n",
    "               'sustainable capital strength',\n",
    "               'climate of low interest rates',\n",
    "              ]\n",
    "remove_string = r'|'.join(stop_phrase)"
   ]
  },
  {
   "cell_type": "code",
   "execution_count": 22,
   "metadata": {},
   "outputs": [],
   "source": [
    "df['clean_text_lower'] = df.clean_text.apply(lambda x: re.sub(remove_string,' ',x.lower()))\n",
    "df_test['clean_text_lower'] = df_test.clean_text.apply(lambda x: re.sub(remove_string,' ',x.lower()))\n",
    "df_predict['clean_text_lower'] = df_predict.clean_text.apply(lambda x: re.sub(remove_string,' ',x.lower()))"
   ]
  },
  {
   "cell_type": "markdown",
   "metadata": {},
   "source": [
    "# 2. Data Engineering and data preparation\n",
    "1. Relabel labelled data\n",
    "2. split data into train and validation set\n",
    "3. Numerical/Heuristic Features: absolute/ relative keyword frequency,Annual report indicator,page length (all standardised)\n",
    "4. Tokenisation and lemmatisation\n",
    "5. Bag-of-Words representation\n",
    "6. TFIDF representation\n",
    "7. Resample training data"
   ]
  },
  {
   "cell_type": "code",
   "execution_count": 23,
   "metadata": {},
   "outputs": [],
   "source": [
    "label_dict = {0:0,0.1:0,0.5:1,1:1}\n",
    "df['Climate_label'] = df.Climate.map(label_dict)\n",
    "df_test['Climate_label'] = df_test.Climate.map(label_dict)\n",
    "df_predict['Climate_label'] = df_predict.Climate.map(label_dict)"
   ]
  },
  {
   "cell_type": "code",
   "execution_count": 24,
   "metadata": {},
   "outputs": [],
   "source": [
    "#train and valid split\n",
    "from sklearn.model_selection import train_test_split\n",
    "df_train, df_val = train_test_split(df, test_size=0.2,stratify=df['Climate_label'], shuffle=True, random_state=42)"
   ]
  },
  {
   "cell_type": "code",
   "execution_count": 25,
   "metadata": {},
   "outputs": [],
   "source": [
    "climate_keywords = ['biodiversity','carbon','climate','ecology',\n",
    "               'environment','emission','pollution','sustainable',\n",
    "              'environmental','esg','tcfd','sustainability','green']\n",
    "search_string = r'|'.join(climate_keywords)"
   ]
  },
  {
   "cell_type": "code",
   "execution_count": 26,
   "metadata": {},
   "outputs": [
    {
     "name": "stderr",
     "output_type": "stream",
     "text": [
      "/opt/anaconda/envs/Python3/lib/python3.6/site-packages/ipykernel/__main__.py:2: SettingWithCopyWarning: \n",
      "A value is trying to be set on a copy of a slice from a DataFrame.\n",
      "Try using .loc[row_indexer,col_indexer] = value instead\n",
      "\n",
      "See the caveats in the documentation: https://pandas.pydata.org/pandas-docs/stable/user_guide/indexing.html#returning-a-view-versus-a-copy\n",
      "  from ipykernel import kernelapp as app\n",
      "/opt/anaconda/envs/Python3/lib/python3.6/site-packages/ipykernel/__main__.py:3: SettingWithCopyWarning: \n",
      "A value is trying to be set on a copy of a slice from a DataFrame.\n",
      "Try using .loc[row_indexer,col_indexer] = value instead\n",
      "\n",
      "See the caveats in the documentation: https://pandas.pydata.org/pandas-docs/stable/user_guide/indexing.html#returning-a-view-versus-a-copy\n",
      "  app.launch_new_instance()\n"
     ]
    }
   ],
   "source": [
    "for kw in climate_keywords:\n",
    "    df_train[kw] = df_train.clean_text_lower.apply(lambda x: len(re.findall(kw,x)))\n",
    "    df_val[kw] = df_val.clean_text_lower.apply(lambda x: len(re.findall(kw,x)))\n",
    "    df_test[kw] = df_test.clean_text_lower.apply(lambda x: len(re.findall(kw,x)))\n",
    "    df_predict[kw] = df_predict.clean_text_lower.apply(lambda x: len(re.findall(kw,x)))"
   ]
  },
  {
   "cell_type": "code",
   "execution_count": 27,
   "metadata": {},
   "outputs": [
    {
     "name": "stderr",
     "output_type": "stream",
     "text": [
      "/opt/anaconda/envs/Python3/lib/python3.6/site-packages/ipykernel/__main__.py:1: SettingWithCopyWarning: \n",
      "A value is trying to be set on a copy of a slice from a DataFrame.\n",
      "Try using .loc[row_indexer,col_indexer] = value instead\n",
      "\n",
      "See the caveats in the documentation: https://pandas.pydata.org/pandas-docs/stable/user_guide/indexing.html#returning-a-view-versus-a-copy\n",
      "  if __name__ == '__main__':\n",
      "/opt/anaconda/envs/Python3/lib/python3.6/site-packages/ipykernel/__main__.py:2: SettingWithCopyWarning: \n",
      "A value is trying to be set on a copy of a slice from a DataFrame.\n",
      "Try using .loc[row_indexer,col_indexer] = value instead\n",
      "\n",
      "See the caveats in the documentation: https://pandas.pydata.org/pandas-docs/stable/user_guide/indexing.html#returning-a-view-versus-a-copy\n",
      "  from ipykernel import kernelapp as app\n"
     ]
    }
   ],
   "source": [
    "df_train['page_len'] = df_train.clean_text_lower.apply(lambda x: len(x))\n",
    "df_val['page_len'] = df_val.clean_text_lower.apply(lambda x: len(x))\n",
    "df_test['page_len'] = df_test.clean_text_lower.apply(lambda x: len(x))\n",
    "df_predict['page_len'] = df_predict.clean_text_lower.apply(lambda x: len(x))"
   ]
  },
  {
   "cell_type": "code",
   "execution_count": 28,
   "metadata": {},
   "outputs": [
    {
     "name": "stderr",
     "output_type": "stream",
     "text": [
      "/opt/anaconda/envs/Python3/lib/python3.6/site-packages/ipykernel/__main__.py:2: SettingWithCopyWarning: \n",
      "A value is trying to be set on a copy of a slice from a DataFrame.\n",
      "Try using .loc[row_indexer,col_indexer] = value instead\n",
      "\n",
      "See the caveats in the documentation: https://pandas.pydata.org/pandas-docs/stable/user_guide/indexing.html#returning-a-view-versus-a-copy\n",
      "  from ipykernel import kernelapp as app\n",
      "/opt/anaconda/envs/Python3/lib/python3.6/site-packages/ipykernel/__main__.py:3: SettingWithCopyWarning: \n",
      "A value is trying to be set on a copy of a slice from a DataFrame.\n",
      "Try using .loc[row_indexer,col_indexer] = value instead\n",
      "\n",
      "See the caveats in the documentation: https://pandas.pydata.org/pandas-docs/stable/user_guide/indexing.html#returning-a-view-versus-a-copy\n",
      "  app.launch_new_instance()\n"
     ]
    }
   ],
   "source": [
    "for kw in climate_keywords:\n",
    "    df_train[kw+'_ratio'] = df_train.loc[:,kw].values/df_train.loc[:,'page_len'].values\n",
    "    df_val[kw+'_ratio'] = df_val.loc[:,kw].values/df_val.loc[:,'page_len'].values\n",
    "    df_test[kw+'_ratio'] = df_test.loc[:,kw].values/df_test.loc[:,'page_len'].values\n",
    "    df_predict[kw+'_ratio'] = df_predict.loc[:,kw].values/df_predict.loc[:,'page_len'].values"
   ]
  },
  {
   "cell_type": "code",
   "execution_count": 29,
   "metadata": {},
   "outputs": [
    {
     "name": "stderr",
     "output_type": "stream",
     "text": [
      "/opt/anaconda/envs/Python3/lib/python3.6/site-packages/ipykernel/__main__.py:1: SettingWithCopyWarning: \n",
      "A value is trying to be set on a copy of a slice from a DataFrame.\n",
      "Try using .loc[row_indexer,col_indexer] = value instead\n",
      "\n",
      "See the caveats in the documentation: https://pandas.pydata.org/pandas-docs/stable/user_guide/indexing.html#returning-a-view-versus-a-copy\n",
      "  if __name__ == '__main__':\n",
      "/opt/anaconda/envs/Python3/lib/python3.6/site-packages/ipykernel/__main__.py:2: SettingWithCopyWarning: \n",
      "A value is trying to be set on a copy of a slice from a DataFrame.\n",
      "Try using .loc[row_indexer,col_indexer] = value instead\n",
      "\n",
      "See the caveats in the documentation: https://pandas.pydata.org/pandas-docs/stable/user_guide/indexing.html#returning-a-view-versus-a-copy\n",
      "  from ipykernel import kernelapp as app\n"
     ]
    }
   ],
   "source": [
    "df_train['Annual'] = df_train.report_type.apply(lambda x: 1 if x=='Annual' else 0)\n",
    "df_val['Annual'] = df_val.report_type.apply(lambda x: 1 if x=='Annual' else 0)\n",
    "df_test['Annual'] = df_test.report_type.apply(lambda x: 1 if x=='Annual' else 0)\n",
    "df_predict['Annual'] = df_predict.report_type.apply(lambda x: 1 if x=='Annual' else 0)"
   ]
  },
  {
   "cell_type": "code",
   "execution_count": 30,
   "metadata": {},
   "outputs": [
    {
     "data": {
      "text/plain": [
       "0    176\n",
       "1    124\n",
       "Name: Climate_label, dtype: int64"
      ]
     },
     "execution_count": 30,
     "metadata": {},
     "output_type": "execute_result"
    }
   ],
   "source": [
    "df.Climate_label.value_counts()"
   ]
  },
  {
   "cell_type": "code",
   "execution_count": 31,
   "metadata": {},
   "outputs": [
    {
     "data": {
      "text/plain": [
       "0    35\n",
       "1    25\n",
       "Name: Climate_label, dtype: int64"
      ]
     },
     "execution_count": 31,
     "metadata": {},
     "output_type": "execute_result"
    }
   ],
   "source": [
    "df_val.Climate_label.value_counts()"
   ]
  },
  {
   "cell_type": "code",
   "execution_count": 32,
   "metadata": {},
   "outputs": [
    {
     "data": {
      "text/plain": [
       "0    73\n",
       "1    27\n",
       "Name: Climate_label, dtype: int64"
      ]
     },
     "execution_count": 32,
     "metadata": {},
     "output_type": "execute_result"
    }
   ],
   "source": [
    "df_test.Climate_label.value_counts()"
   ]
  },
  {
   "cell_type": "code",
   "execution_count": 33,
   "metadata": {},
   "outputs": [],
   "source": [
    "import spacy\n",
    "import re\n",
    "from joblib import Parallel, delayed\n",
    "from wordsegment import load, segment #to_split words\n",
    "load()"
   ]
  },
  {
   "cell_type": "code",
   "execution_count": 34,
   "metadata": {},
   "outputs": [],
   "source": [
    "try:\n",
    "    nlp = spacy.load(\"en_core_web_md\")\n",
    "except OSError:\n",
    "    import spacy.cli \n",
    "    print(\"Model not found. Downloading.\")\n",
    "    spacy.cli.download(\"en_core_web_md\")\n",
    "    import en_core_web_md\n",
    "    nlp = en_core_web_md.load()\n",
    "    \n",
    "nlp = spacy.load('en_core_web_md', disable=['tagger', 'parser', 'ner'])"
   ]
  },
  {
   "cell_type": "code",
   "execution_count": 35,
   "metadata": {},
   "outputs": [],
   "source": [
    "all_stopwords = nlp.Defaults.stop_words"
   ]
  },
  {
   "cell_type": "code",
   "execution_count": 36,
   "metadata": {},
   "outputs": [],
   "source": [
    "# joblib pipeline\n",
    "def lemmatize_pipe(doc):\n",
    "    lemma_list = [str(tok.lemma_).lower() for tok in doc\n",
    "                  if tok.text.lower() not in all_stopwords]\n",
    "#     token_list = [token.text for token in doc]\n",
    "    #print(token_list)\n",
    "#     segemented = ' '.join([' '.join(segment(i)) for i in token_list]).strip()\n",
    "#     lemma_list = [str(tok.lemma_).lower() for tok in nlp(segemented)\n",
    "#                   if tok.text.lower() not in all_stopwords]\n",
    "\n",
    "    return lemma_list\n",
    "\n",
    "def preprocess_pipe(texts):\n",
    "    preproc_pipe = []\n",
    "    for doc in nlp.pipe(texts, batch_size=20):\n",
    "        preproc_pipe.append(lemmatize_pipe(doc))\n",
    "    return preproc_pipe\n",
    "def chunker(iterable, total_length, chunksize):\n",
    "    return (iterable[pos: pos + chunksize] for pos in range(0, total_length, chunksize))\n",
    "\n",
    "def flatten(list_of_lists):\n",
    "    \"Flatten a list of lists to a combined list\"\n",
    "    return [item for sublist in list_of_lists for item in sublist]\n",
    "\n",
    "def process_chunk(texts):\n",
    "    preproc_pipe = []\n",
    "    for doc in nlp.pipe(texts, batch_size=20):\n",
    "        preproc_pipe.append(lemmatize_pipe(doc))\n",
    "    return preproc_pipe\n",
    "\n",
    "def preprocess_parallel(texts, chunksize=100):\n",
    "    executor = Parallel(n_jobs=7, backend='multiprocessing', prefer=\"processes\")\n",
    "    do = delayed(process_chunk) # the operation piece\n",
    "    tasks = (do(chunk) for chunk in chunker(texts, len(texts), chunksize=chunksize))\n",
    "    result = executor(tasks)\n",
    "    return flatten(result)"
   ]
  },
  {
   "cell_type": "code",
   "execution_count": 37,
   "metadata": {},
   "outputs": [
    {
     "name": "stderr",
     "output_type": "stream",
     "text": [
      "/opt/anaconda/envs/Python3/lib/python3.6/site-packages/ipykernel/__main__.py:2: SettingWithCopyWarning: \n",
      "A value is trying to be set on a copy of a slice from a DataFrame.\n",
      "Try using .loc[row_indexer,col_indexer] = value instead\n",
      "\n",
      "See the caveats in the documentation: https://pandas.pydata.org/pandas-docs/stable/user_guide/indexing.html#returning-a-view-versus-a-copy\n",
      "  from ipykernel import kernelapp as app\n",
      "/opt/anaconda/envs/Python3/lib/python3.6/site-packages/ipykernel/__main__.py:3: SettingWithCopyWarning: \n",
      "A value is trying to be set on a copy of a slice from a DataFrame.\n",
      "Try using .loc[row_indexer,col_indexer] = value instead\n",
      "\n",
      "See the caveats in the documentation: https://pandas.pydata.org/pandas-docs/stable/user_guide/indexing.html#returning-a-view-versus-a-copy\n",
      "  app.launch_new_instance()\n"
     ]
    }
   ],
   "source": [
    "#Tokenization\n",
    "df_train['tokens'] = preprocess_parallel(df_train['clean_text'], chunksize=100)\n",
    "df_val['tokens'] = preprocess_parallel(df_val['clean_text'], chunksize=100)\n",
    "df_test['tokens'] = preprocess_parallel(df_test['clean_text'], chunksize=100)\n",
    "df_predict['tokens'] = preprocess_parallel(df_predict['clean_text'], chunksize=100)"
   ]
  },
  {
   "cell_type": "code",
   "execution_count": 38,
   "metadata": {},
   "outputs": [
    {
     "name": "stderr",
     "output_type": "stream",
     "text": [
      "/opt/anaconda/envs/Python3/lib/python3.6/site-packages/ipykernel/__main__.py:1: SettingWithCopyWarning: \n",
      "A value is trying to be set on a copy of a slice from a DataFrame.\n",
      "Try using .loc[row_indexer,col_indexer] = value instead\n",
      "\n",
      "See the caveats in the documentation: https://pandas.pydata.org/pandas-docs/stable/user_guide/indexing.html#returning-a-view-versus-a-copy\n",
      "  if __name__ == '__main__':\n",
      "/opt/anaconda/envs/Python3/lib/python3.6/site-packages/ipykernel/__main__.py:2: SettingWithCopyWarning: \n",
      "A value is trying to be set on a copy of a slice from a DataFrame.\n",
      "Try using .loc[row_indexer,col_indexer] = value instead\n",
      "\n",
      "See the caveats in the documentation: https://pandas.pydata.org/pandas-docs/stable/user_guide/indexing.html#returning-a-view-versus-a-copy\n",
      "  from ipykernel import kernelapp as app\n"
     ]
    }
   ],
   "source": [
    "df_train['clean_token_str'] = df_train.tokens.apply(lambda x: ' '.join(x))\n",
    "df_val['clean_token_str'] = df_val.tokens.apply(lambda x: ' '.join(x))\n",
    "df_test['clean_token_str'] = df_test.tokens.apply(lambda x: ' '.join(x))\n",
    "df_predict['clean_token_str'] = df_predict.tokens.apply(lambda x: ' '.join(x))"
   ]
  },
  {
   "cell_type": "code",
   "execution_count": 39,
   "metadata": {},
   "outputs": [],
   "source": [
    "df_model_result = pd.DataFrame(columns=['Model Name','Representation(Features)',\n",
    "                                       'Training Accuracy','Validation Accuracy',\n",
    "                                        'Dimensionality'])"
   ]
  },
  {
   "cell_type": "code",
   "execution_count": 40,
   "metadata": {},
   "outputs": [],
   "source": [
    "y_train = df_train['Climate_label']\n",
    "y_val = df_val['Climate_label']\n",
    "y_test = df_test['Climate_label']"
   ]
  },
  {
   "cell_type": "code",
   "execution_count": 41,
   "metadata": {},
   "outputs": [],
   "source": [
    "from sklearn.feature_extraction.text import CountVectorizer\n",
    "vectorizer = CountVectorizer()\n",
    "X_train_bow = vectorizer.fit_transform(df_train['clean_token_str']).toarray()\n",
    "X_val_bow = vectorizer.transform(df_val['clean_token_str']).toarray()\n",
    "X_test_bow = vectorizer.transform(df_test['clean_token_str']).toarray()\n",
    "X_predict_bow = vectorizer.transform(df_predict['clean_token_str']).toarray()"
   ]
  },
  {
   "cell_type": "code",
   "execution_count": 42,
   "metadata": {},
   "outputs": [],
   "source": [
    "from sklearn.feature_extraction.text import TfidfTransformer\n",
    "tfidfconverter = TfidfTransformer()\n",
    "X_train_tfidf = tfidfconverter.fit_transform(X_train_bow).toarray()\n",
    "X_val_tfidf = tfidfconverter.transform(X_val_bow).toarray()\n",
    "X_test_tfidf = tfidfconverter.transform(X_test_bow).toarray()\n",
    "X_predict_tfidf = tfidfconverter.transform(X_predict_bow).toarray()"
   ]
  },
  {
   "cell_type": "code",
   "execution_count": 43,
   "metadata": {},
   "outputs": [],
   "source": [
    "from sklearn.preprocessing import StandardScaler\n",
    "scaler = StandardScaler()\n",
    "X_train_kw = scaler.fit_transform(df_train.loc[:,['biodiversity','carbon','climate','ecology',\n",
    "               'environment','emission','pollution','sustainable',\n",
    "              'environmental','esg','tcfd','sustainability','green',\n",
    "               'page_len','Annual','biodiversity_ratio','carbon_ratio','climate_ratio','ecology_ratio',\n",
    "               'environment_ratio','emission_ratio','pollution_ratio','sustainable_ratio',\n",
    "              'environmental_ratio','esg_ratio','tcfd_ratio','sustainability_ratio','green_ratio']])\n",
    "X_val_kw = scaler.transform(df_val.loc[:,['biodiversity','carbon','climate','ecology',\n",
    "               'environment','emission','pollution','sustainable',\n",
    "              'environmental','esg','tcfd','sustainability','green',\n",
    "               'page_len','Annual','biodiversity_ratio','carbon_ratio','climate_ratio','ecology_ratio',\n",
    "               'environment_ratio','emission_ratio','pollution_ratio','sustainable_ratio',\n",
    "              'environmental_ratio','esg_ratio','tcfd_ratio','sustainability_ratio','green_ratio']])\n",
    "X_test_kw = scaler.transform(df_test.loc[:,['biodiversity','carbon','climate','ecology',\n",
    "               'environment','emission','pollution','sustainable',\n",
    "              'environmental','esg','tcfd','sustainability','green',\n",
    "               'page_len','Annual','biodiversity_ratio','carbon_ratio','climate_ratio','ecology_ratio',\n",
    "               'environment_ratio','emission_ratio','pollution_ratio','sustainable_ratio',\n",
    "              'environmental_ratio','esg_ratio','tcfd_ratio','sustainability_ratio','green_ratio']])\n",
    "# X_predict_kw = scaler.transform(df_predict.loc[:,['biodiversity','carbon','climate','ecology',\n",
    "#                'environment','emission','pollution','sustainable',\n",
    "#               'environmental','esg','tcfd','sustainability','green',\n",
    "#                'page_len','Annual','biodiversity_ratio','carbon_ratio','climate_ratio','ecology_ratio',\n",
    "#                'environment_ratio','emission_ratio','pollution_ratio','sustainable_ratio',\n",
    "#               'environmental_ratio','esg_ratio','tcfd_ratio','sustainability_ratio','green_ratio']])"
   ]
  },
  {
   "cell_type": "markdown",
   "metadata": {},
   "source": [
    "# 3. Modeling with Full Futures\n",
    "1. Linear SVM\n",
    "2. Random forest\n",
    "3. XGboost"
   ]
  },
  {
   "cell_type": "code",
   "execution_count": 44,
   "metadata": {},
   "outputs": [],
   "source": [
    "from imblearn.over_sampling import SMOTE\n",
    "X_train_bow_resampled, y_train_bow_resampled = SMOTE(random_state=0).fit_resample(X_train_bow,y_train)\n",
    "X_train_tfidf_resampled, y_train_tfidf_resampled = SMOTE(random_state=0).fit_resample(X_train_tfidf,y_train)\n",
    "X_train_kw_resampled, y_train_kw_resampled = SMOTE(random_state=0).fit_resample(X_train_kw,y_train)"
   ]
  },
  {
   "cell_type": "code",
   "execution_count": 45,
   "metadata": {},
   "outputs": [
    {
     "data": {
      "text/plain": [
       "(282, 6884)"
      ]
     },
     "execution_count": 45,
     "metadata": {},
     "output_type": "execute_result"
    }
   ],
   "source": [
    "X_train_bow_resampled.shape"
   ]
  },
  {
   "cell_type": "code",
   "execution_count": 46,
   "metadata": {},
   "outputs": [
    {
     "data": {
      "text/plain": [
       "(282, 6884)"
      ]
     },
     "execution_count": 46,
     "metadata": {},
     "output_type": "execute_result"
    }
   ],
   "source": [
    "X_train_tfidf_resampled.shape"
   ]
  },
  {
   "cell_type": "code",
   "execution_count": 47,
   "metadata": {},
   "outputs": [
    {
     "data": {
      "text/plain": [
       "(282, 28)"
      ]
     },
     "execution_count": 47,
     "metadata": {},
     "output_type": "execute_result"
    }
   ],
   "source": [
    "X_train_kw_resampled.shape"
   ]
  },
  {
   "cell_type": "code",
   "execution_count": 48,
   "metadata": {},
   "outputs": [
    {
     "data": {
      "text/plain": [
       "1    141\n",
       "0    141\n",
       "Name: Climate_label, dtype: int64"
      ]
     },
     "execution_count": 48,
     "metadata": {},
     "output_type": "execute_result"
    }
   ],
   "source": [
    "y_train_bow_resampled.value_counts()"
   ]
  },
  {
   "cell_type": "code",
   "execution_count": 49,
   "metadata": {},
   "outputs": [],
   "source": [
    "from sklearn.model_selection import cross_val_score\n",
    "from sklearn.metrics import plot_confusion_matrix\n",
    "from sklearn.metrics import classification_report,accuracy_score"
   ]
  },
  {
   "cell_type": "code",
   "execution_count": 50,
   "metadata": {},
   "outputs": [],
   "source": [
    "# linear SVM\n",
    "from sklearn.svm import LinearSVC\n",
    "svc = LinearSVC()\n",
    "#bow\n",
    "svc.fit(X_train_bow_resampled, y_train_bow_resampled)\n",
    "y_train_bow_resampled_pre = svc.predict(X_train_bow_resampled)\n",
    "y_val_bow_pre = svc.predict(X_val_bow)\n",
    "bow_train_sc = accuracy_score(y_train_bow_resampled,y_train_bow_resampled_pre)\n",
    "bow_val_sc = accuracy_score(y_val,y_val_bow_pre)\n",
    "df_model_result = df_model_result.append({'Model Name':'LinearSVC',\n",
    "           'Representation(Features)':'Bag-of-Words',\n",
    "           'Training Accuracy':bow_train_sc,\n",
    "           'Validation Accuracy':bow_val_sc,\n",
    "            'Dimensionality':'Original'},ignore_index=True)\n",
    "#tfidf\n",
    "svc.fit(X_train_tfidf_resampled, y_train_tfidf_resampled)\n",
    "y_train_tfidf_resampled_pre = svc.predict(X_train_tfidf_resampled)\n",
    "y_val_tfidf_pre = svc.predict(X_val_tfidf)\n",
    "tfidf_train_sc = accuracy_score(y_train_tfidf_resampled,y_train_tfidf_resampled_pre)\n",
    "tfidf_val_sc = accuracy_score(y_val,y_val_tfidf_pre)\n",
    "df_model_result = df_model_result.append({'Model Name':'LinearSVC',\n",
    "           'Representation(Features)':'TFIDF',\n",
    "           'Training Accuracy':tfidf_train_sc ,\n",
    "           'Validation Accuracy':tfidf_val_sc,\n",
    "            'Dimensionality':'Original'},ignore_index=True)\n",
    "\n",
    "#kw\n",
    "svc.fit(X_train_kw_resampled, y_train_kw_resampled)\n",
    "y_train_kw_resampled_pre = svc.predict(X_train_kw_resampled)\n",
    "y_val_kw_pre = svc.predict(X_val_kw)\n",
    "kw_train_sc = accuracy_score(y_train_kw_resampled,y_train_kw_resampled_pre)\n",
    "kw_val_sc = accuracy_score(y_val,y_val_kw_pre)\n",
    "df_model_result = df_model_result.append({'Model Name':'LinearSVC',\n",
    "           'Representation(Features)':'Keyword',\n",
    "           'Training Accuracy':kw_train_sc ,\n",
    "           'Validation Accuracy':kw_val_sc,\n",
    "            'Dimensionality':'Original'},ignore_index=True)"
   ]
  },
  {
   "cell_type": "code",
   "execution_count": 51,
   "metadata": {},
   "outputs": [],
   "source": [
    "from sklearn.ensemble import RandomForestClassifier\n",
    "rf = RandomForestClassifier()\n",
    "\n",
    "#bow\n",
    "rf.fit(X_train_bow_resampled, y_train_bow_resampled)\n",
    "y_train_bow_resampled_pre = rf.predict(X_train_bow_resampled)\n",
    "y_val_bow_pre = rf.predict(X_val_bow)\n",
    "bow_train_sc = accuracy_score(y_train_bow_resampled,y_train_bow_resampled_pre)\n",
    "bow_val_sc = accuracy_score(y_val,y_val_bow_pre)\n",
    "df_model_result = df_model_result.append({'Model Name':'RandomForestClassifier',\n",
    "           'Representation(Features)':'Bag-of-Words',\n",
    "           'Training Accuracy':bow_train_sc,\n",
    "           'Validation Accuracy':bow_val_sc,\n",
    "            'Dimensionality':'Original'},ignore_index=True)\n",
    "#tfidf\n",
    "rf.fit(X_train_tfidf_resampled, y_train_tfidf_resampled)\n",
    "y_train_tfidf_resampled_pre = rf.predict(X_train_tfidf_resampled)\n",
    "y_val_tfidf_pre = rf.predict(X_val_tfidf)\n",
    "tfidf_train_sc = accuracy_score(y_train_tfidf_resampled,y_train_tfidf_resampled_pre)\n",
    "tfidf_val_sc = accuracy_score(y_val,y_val_tfidf_pre)\n",
    "df_model_result = df_model_result.append({'Model Name':'RandomForestClassifier',\n",
    "           'Representation(Features)':'TFIDF',\n",
    "           'Training Accuracy':tfidf_train_sc ,\n",
    "           'Validation Accuracy':tfidf_val_sc,\n",
    "            'Dimensionality':'Original'},ignore_index=True)\n",
    "\n",
    "#kw\n",
    "rf.fit(X_train_kw_resampled, y_train_kw_resampled)\n",
    "y_train_kw_resampled_pre = rf.predict(X_train_kw_resampled)\n",
    "y_val_kw_pre = rf.predict(X_val_kw)\n",
    "kw_train_sc = accuracy_score(y_train_kw_resampled,y_train_kw_resampled_pre)\n",
    "kw_val_sc = accuracy_score(y_val,y_val_kw_pre)\n",
    "df_model_result = df_model_result.append({'Model Name':'RandomForestClassifier',\n",
    "           'Representation(Features)':'Keyword',\n",
    "           'Training Accuracy':kw_train_sc ,\n",
    "           'Validation Accuracy':kw_val_sc,\n",
    "            'Dimensionality':'Original'},ignore_index=True)"
   ]
  },
  {
   "cell_type": "code",
   "execution_count": 52,
   "metadata": {},
   "outputs": [],
   "source": [
    "from xgboost import XGBClassifier\n",
    "xgb = XGBClassifier()\n",
    "\n",
    "#bow\n",
    "xgb.fit(X_train_bow_resampled, y_train_bow_resampled)\n",
    "y_train_bow_resampled_pre = xgb.predict(X_train_bow_resampled)\n",
    "y_val_bow_pre = xgb.predict(X_val_bow)\n",
    "bow_train_sc = accuracy_score(y_train_bow_resampled,y_train_bow_resampled_pre)\n",
    "bow_val_sc = accuracy_score(y_val,y_val_bow_pre)\n",
    "df_model_result = df_model_result.append({'Model Name':'XGBClassifier',\n",
    "           'Representation(Features)':'Bag-of-Words',\n",
    "           'Training Accuracy':bow_train_sc,\n",
    "           'Validation Accuracy':bow_val_sc,\n",
    "            'Dimensionality':'Original'},ignore_index=True)\n",
    "#tfidf\n",
    "xgb.fit(X_train_tfidf_resampled, y_train_tfidf_resampled)\n",
    "y_train_tfidf_resampled_pre = xgb.predict(X_train_tfidf_resampled)\n",
    "y_val_tfidf_pre = xgb.predict(X_val_tfidf)\n",
    "tfidf_train_sc = accuracy_score(y_train_tfidf_resampled,y_train_tfidf_resampled_pre)\n",
    "tfidf_val_sc = accuracy_score(y_val,y_val_tfidf_pre)\n",
    "df_model_result = df_model_result.append({'Model Name':'XGBClassifier',\n",
    "           'Representation(Features)':'TFIDF',\n",
    "           'Training Accuracy':tfidf_train_sc ,\n",
    "           'Validation Accuracy':tfidf_val_sc,\n",
    "            'Dimensionality':'Original'},ignore_index=True)\n",
    "\n",
    "#kw\n",
    "xgb.fit(X_train_kw_resampled, y_train_kw_resampled)\n",
    "y_train_kw_resampled_pre = xgb.predict(X_train_kw_resampled)\n",
    "y_val_kw_pre = xgb.predict(X_val_kw)\n",
    "kw_train_sc = accuracy_score(y_train_kw_resampled,y_train_kw_resampled_pre)\n",
    "kw_val_sc = accuracy_score(y_val,y_val_kw_pre)\n",
    "df_model_result = df_model_result.append({'Model Name':'XGBClassifier',\n",
    "           'Representation(Features)':'Keyword',\n",
    "           'Training Accuracy':kw_train_sc ,\n",
    "           'Validation Accuracy':kw_val_sc,\n",
    "            'Dimensionality':'Original'},ignore_index=True)"
   ]
  },
  {
   "cell_type": "markdown",
   "metadata": {},
   "source": [
    "# 4. Dimensionality Reduction"
   ]
  },
  {
   "cell_type": "code",
   "execution_count": 53,
   "metadata": {},
   "outputs": [
    {
     "data": {
      "text/plain": [
       "TruncatedSVD(n_components=240, random_state=0)"
      ]
     },
     "execution_count": 53,
     "metadata": {},
     "output_type": "execute_result"
    }
   ],
   "source": [
    "#  truncated SVD(LSA)\n",
    "from sklearn.decomposition import TruncatedSVD\n",
    "n = 240\n",
    "svd = TruncatedSVD(n_components=n, n_iter=5, random_state=0)\n",
    "svd.fit(X_train_bow)\n"
   ]
  },
  {
   "cell_type": "code",
   "execution_count": 54,
   "metadata": {},
   "outputs": [
    {
     "name": "stdout",
     "output_type": "stream",
     "text": [
      "154\n"
     ]
    },
    {
     "data": {
      "image/png": "[encoded data removed]",
      "text/plain": [
       "<Figure size 432x324 with 1 Axes>"
      ]
     },
     "metadata": {
      "needs_background": "light"
     },
     "output_type": "display_data"
    }
   ],
   "source": [
    "import matplotlib.pyplot as plt\n",
    "import seaborn as sns\n",
    "sns.set_style(\"whitegrid\") \n",
    "%matplotlib inline\n",
    "plt.figure(figsize=(4*1.5,3+1.5))\n",
    "y = np.cumsum(svd.explained_variance_ratio_)\n",
    "x = list(range(n))\n",
    "sns.lineplot(x,y)\n",
    "components = np.argmax(y>=0.95)+1\n",
    "plt.xlabel('Transformed Vector Length')\n",
    "plt.ylabel('Explained Variance Ratio')\n",
    "#plt.title('SVD Components Explained Variance Ratio for Bag-of-Words Representation')\n",
    "plt.plot(x[components-1], y[components-1], 'r*')\n",
    "print(components)\n",
    "plt.show()"
   ]
  },
  {
   "cell_type": "code",
   "execution_count": 55,
   "metadata": {},
   "outputs": [
    {
     "data": {
      "text/plain": [
       "TruncatedSVD(n_components=240, random_state=0)"
      ]
     },
     "execution_count": 55,
     "metadata": {},
     "output_type": "execute_result"
    }
   ],
   "source": [
    "n = 240\n",
    "svd2 = TruncatedSVD(n_components=n, n_iter=5, random_state=0)\n",
    "svd2.fit(X_train_tfidf)"
   ]
  },
  {
   "cell_type": "code",
   "execution_count": 56,
   "metadata": {},
   "outputs": [
    {
     "name": "stdout",
     "output_type": "stream",
     "text": [
      "200\n"
     ]
    },
    {
     "data": {
      "image/png": "[encoded data removed]",
      "text/plain": [
       "<Figure size 432x324 with 1 Axes>"
      ]
     },
     "metadata": {
      "needs_background": "light"
     },
     "output_type": "display_data"
    }
   ],
   "source": [
    "plt.figure(figsize=(4*1.5,3+1.5))\n",
    "y = np.cumsum(svd2.explained_variance_ratio_)\n",
    "x = list(range(n))\n",
    "sns.lineplot(x,y)\n",
    "components = np.argmax(y>=0.95)+1\n",
    "plt.xlabel('Transformed Vector Length')\n",
    "plt.ylabel('Explained Variance Ratio')\n",
    "#plt.title('SVD Components Explained Variance Ratio for TFIDF Representation')\n",
    "plt.plot(x[components-1], y[components-1], 'r*')\n",
    "print(components)\n",
    "plt.show()"
   ]
  },
  {
   "cell_type": "code",
   "execution_count": 59,
   "metadata": {},
   "outputs": [],
   "source": [
    "# Dimensionality reduction\n",
    "svd = TruncatedSVD(n_components=154, n_iter=5, random_state=0)\n",
    "X_train_bow = svd.fit_transform(X_train_bow )\n",
    "X_val_bow = svd.transform(X_val_bow)\n",
    "X_test_bow = svd.transform(X_test_bow)\n",
    "\n",
    "svd2 = TruncatedSVD(n_components=200, n_iter=5, random_state=0)\n",
    "X_train_tfidf = svd2.fit_transform(X_train_tfidf)\n",
    "X_val_tfidf = svd2.transform(X_val_tfidf)\n",
    "X_test_tfidf = svd2.transform(X_test_tfidf)\n"
   ]
  },
  {
   "cell_type": "code",
   "execution_count": 60,
   "metadata": {},
   "outputs": [],
   "source": [
    "from imblearn.over_sampling import SMOTE\n",
    "X_train_bow_resampled, y_train_bow_resampled = SMOTE(random_state=0).fit_resample(X_train_bow,y_train)\n",
    "X_train_tfidf_resampled, y_train_tfidf_resampled = SMOTE(random_state=0).fit_resample(X_train_tfidf,y_train)\n",
    "X_train_kw_resampled, y_train_kw_resampled = SMOTE(random_state=0).fit_resample(X_train_kw,y_train)"
   ]
  },
  {
   "cell_type": "markdown",
   "metadata": {},
   "source": [
    "# 5. Modeling with Reduced Features\n",
    "1. Linear SVM\n",
    "2. Random forest\n",
    "3. XGboost"
   ]
  },
  {
   "cell_type": "code",
   "execution_count": 61,
   "metadata": {},
   "outputs": [
    {
     "name": "stderr",
     "output_type": "stream",
     "text": [
      "/opt/anaconda/envs/Python3/lib/python3.6/site-packages/sklearn/svm/_base.py:977: ConvergenceWarning: Liblinear failed to converge, increase the number of iterations.\n",
      "  \"the number of iterations.\", ConvergenceWarning)\n"
     ]
    }
   ],
   "source": [
    "# linear SVM\n",
    "from sklearn.svm import LinearSVC\n",
    "svc = LinearSVC()\n",
    "#bow\n",
    "svc.fit(X_train_bow_resampled, y_train_bow_resampled)\n",
    "y_train_bow_resampled_pre = svc.predict(X_train_bow_resampled)\n",
    "y_val_bow_pre = svc.predict(X_val_bow)\n",
    "bow_train_sc = accuracy_score(y_train_bow_resampled,y_train_bow_resampled_pre)\n",
    "bow_val_sc = accuracy_score(y_val,y_val_bow_pre)\n",
    "df_model_result = df_model_result.append({'Model Name':'LinearSVC',\n",
    "           'Representation(Features)':'Bag-of-Words',\n",
    "           'Training Accuracy':bow_train_sc,\n",
    "           'Validation Accuracy':bow_val_sc,\n",
    "            'Dimensionality':'Reduced'},ignore_index=True)\n",
    "#tfidf\n",
    "svc.fit(X_train_tfidf_resampled, y_train_tfidf_resampled)\n",
    "y_train_tfidf_resampled_pre = svc.predict(X_train_tfidf_resampled)\n",
    "y_val_tfidf_pre = svc.predict(X_val_tfidf)\n",
    "tfidf_train_sc = accuracy_score(y_train_tfidf_resampled,y_train_tfidf_resampled_pre)\n",
    "tfidf_val_sc = accuracy_score(y_val,y_val_tfidf_pre)\n",
    "df_model_result = df_model_result.append({'Model Name':'LinearSVC',\n",
    "           'Representation(Features)':'TFIDF',\n",
    "           'Training Accuracy':tfidf_train_sc ,\n",
    "           'Validation Accuracy':tfidf_val_sc,\n",
    "            'Dimensionality':'Reduced'},ignore_index=True)\n",
    "\n",
    "#kw\n",
    "svc.fit(X_train_kw_resampled, y_train_kw_resampled)\n",
    "y_train_kw_resampled_pre = svc.predict(X_train_kw_resampled)\n",
    "y_val_kw_pre = svc.predict(X_val_kw)\n",
    "kw_train_sc = accuracy_score(y_train_kw_resampled,y_train_kw_resampled_pre)\n",
    "kw_val_sc = accuracy_score(y_val,y_val_kw_pre)\n",
    "# df_model_result = df_model_result.append({'Model Name':'LinearSVC',\n",
    "#            'Representation(Features)':'Keyword',\n",
    "#            'Training Accuracy':kw_train_sc ,\n",
    "#            'Validation Accuracy':kw_val_sc,\n",
    "#             'Dimensionality':'Reduced'},ignore_index=True)"
   ]
  },
  {
   "cell_type": "code",
   "execution_count": 62,
   "metadata": {},
   "outputs": [],
   "source": [
    "from sklearn.ensemble import RandomForestClassifier\n",
    "rf = RandomForestClassifier()\n",
    "\n",
    "#bow\n",
    "rf.fit(X_train_bow_resampled, y_train_bow_resampled)\n",
    "y_train_bow_resampled_pre = rf.predict(X_train_bow_resampled)\n",
    "y_val_bow_pre = rf.predict(X_val_bow)\n",
    "bow_train_sc = accuracy_score(y_train_bow_resampled,y_train_bow_resampled_pre)\n",
    "bow_val_sc = accuracy_score(y_val,y_val_bow_pre)\n",
    "df_model_result = df_model_result.append({'Model Name':'RandomForestClassifier',\n",
    "           'Representation(Features)':'Bag-of-Words',\n",
    "           'Training Accuracy':bow_train_sc,\n",
    "           'Validation Accuracy':bow_val_sc,\n",
    "            'Dimensionality':'Reduced'},ignore_index=True)\n",
    "#tfidf\n",
    "rf.fit(X_train_tfidf_resampled, y_train_tfidf_resampled)\n",
    "y_train_tfidf_resampled_pre = rf.predict(X_train_tfidf_resampled)\n",
    "y_val_tfidf_pre = rf.predict(X_val_tfidf)\n",
    "tfidf_train_sc = accuracy_score(y_train_tfidf_resampled,y_train_tfidf_resampled_pre)\n",
    "tfidf_val_sc = accuracy_score(y_val,y_val_tfidf_pre)\n",
    "df_model_result = df_model_result.append({'Model Name':'RandomForestClassifier',\n",
    "           'Representation(Features)':'TFIDF',\n",
    "           'Training Accuracy':tfidf_train_sc ,\n",
    "           'Validation Accuracy':tfidf_val_sc,\n",
    "            'Dimensionality':'Reduced'},ignore_index=True)\n",
    "\n",
    "#kw\n",
    "rf.fit(X_train_kw_resampled, y_train_kw_resampled)\n",
    "y_train_kw_resampled_pre = rf.predict(X_train_kw_resampled)\n",
    "y_val_kw_pre = rf.predict(X_val_kw)\n",
    "kw_train_sc = accuracy_score(y_train_kw_resampled,y_train_kw_resampled_pre)\n",
    "kw_val_sc = accuracy_score(y_val,y_val_kw_pre)\n",
    "# df_model_result = df_model_result.append({'Model Name':'RandomForestClassifier',\n",
    "#            'Representation(Features)':'Keyword',\n",
    "#            'Training Accuracy':kw_train_sc ,\n",
    "#            'Validation Accuracy':kw_val_sc,\n",
    "#             'Dimensionality':'Reduced'},ignore_index=True)"
   ]
  },
  {
   "cell_type": "code",
   "execution_count": 63,
   "metadata": {},
   "outputs": [],
   "source": [
    "from xgboost import XGBClassifier\n",
    "xgb = XGBClassifier()\n",
    "\n",
    "#bow\n",
    "xgb.fit(X_train_bow_resampled, y_train_bow_resampled)\n",
    "y_train_bow_resampled_pre = xgb.predict(X_train_bow_resampled)\n",
    "y_val_bow_pre = xgb.predict(X_val_bow)\n",
    "bow_train_sc = accuracy_score(y_train_bow_resampled,y_train_bow_resampled_pre)\n",
    "bow_val_sc = accuracy_score(y_val,y_val_bow_pre)\n",
    "df_model_result = df_model_result.append({'Model Name':'XGBClassifier',\n",
    "           'Representation(Features)':'Bag-of-Words',\n",
    "           'Training Accuracy':bow_train_sc,\n",
    "           'Validation Accuracy':bow_val_sc,\n",
    "            'Dimensionality':'Reduced'},ignore_index=True)\n",
    "#tfidf\n",
    "xgb.fit(X_train_tfidf_resampled, y_train_tfidf_resampled)\n",
    "y_train_tfidf_resampled_pre = xgb.predict(X_train_tfidf_resampled)\n",
    "y_val_tfidf_pre = xgb.predict(X_val_tfidf)\n",
    "tfidf_train_sc = accuracy_score(y_train_tfidf_resampled,y_train_tfidf_resampled_pre)\n",
    "tfidf_val_sc = accuracy_score(y_val,y_val_tfidf_pre)\n",
    "df_model_result = df_model_result.append({'Model Name':'XGBClassifier',\n",
    "           'Representation(Features)':'TFIDF',\n",
    "           'Training Accuracy':tfidf_train_sc ,\n",
    "           'Validation Accuracy':tfidf_val_sc,\n",
    "            'Dimensionality':'Reduced'},ignore_index=True)\n",
    "\n",
    "#kw\n",
    "xgb.fit(X_train_kw_resampled, y_train_kw_resampled)\n",
    "y_train_kw_resampled_pre = xgb.predict(X_train_kw_resampled)\n",
    "y_val_kw_pre = xgb.predict(X_val_kw)\n",
    "kw_train_sc = accuracy_score(y_train_kw_resampled,y_train_kw_resampled_pre)\n",
    "kw_val_sc = accuracy_score(y_val,y_val_kw_pre)\n",
    "# df_model_result = df_model_result.append({'Model Name':'XGBClassifier',\n",
    "#            'Representation(Features)':'Keyword',\n",
    "#            'Training Accuracy':kw_train_sc ,\n",
    "#            'Validation Accuracy':kw_val_sc,\n",
    "#             'Dimensionality':'Reduced'},ignore_index=True)"
   ]
  },
  {
   "cell_type": "code",
   "execution_count": 306,
   "metadata": {},
   "outputs": [],
   "source": [
    "# Keyword and Random forest"
   ]
  },
  {
   "cell_type": "code",
   "execution_count": 55,
   "metadata": {},
   "outputs": [
    {
     "data": {
      "text/html": [
       "<div>\n",
       "<style scoped>\n",
       "    .dataframe tbody tr th:only-of-type {\n",
       "        vertical-align: middle;\n",
       "    }\n",
       "\n",
       "    .dataframe tbody tr th {\n",
       "        vertical-align: top;\n",
       "    }\n",
       "\n",
       "    .dataframe thead th {\n",
       "        text-align: right;\n",
       "    }\n",
       "</style>\n",
       "<table border=\"1\" class=\"dataframe\">\n",
       "  <thead>\n",
       "    <tr style=\"text-align: right;\">\n",
       "      <th></th>\n",
       "      <th>Model Name</th>\n",
       "      <th>Representation(Features)</th>\n",
       "      <th>Training Accuracy</th>\n",
       "      <th>Validation Accuracy</th>\n",
       "      <th>Dimensionality</th>\n",
       "      <th>Dimentionality</th>\n",
       "    </tr>\n",
       "  </thead>\n",
       "  <tbody>\n",
       "    <tr>\n",
       "      <th>0</th>\n",
       "      <td>LinearSVC</td>\n",
       "      <td>Bag-of-Words</td>\n",
       "      <td>1.000000</td>\n",
       "      <td>0.750000</td>\n",
       "      <td>NaN</td>\n",
       "      <td>Original</td>\n",
       "    </tr>\n",
       "    <tr>\n",
       "      <th>1</th>\n",
       "      <td>LinearSVC</td>\n",
       "      <td>TFIDF</td>\n",
       "      <td>1.000000</td>\n",
       "      <td>0.783333</td>\n",
       "      <td>Original</td>\n",
       "      <td>NaN</td>\n",
       "    </tr>\n",
       "    <tr>\n",
       "      <th>2</th>\n",
       "      <td>LinearSVC</td>\n",
       "      <td>Keyword</td>\n",
       "      <td>0.950355</td>\n",
       "      <td>0.916667</td>\n",
       "      <td>Original</td>\n",
       "      <td>NaN</td>\n",
       "    </tr>\n",
       "    <tr>\n",
       "      <th>3</th>\n",
       "      <td>RandomForestClassifier</td>\n",
       "      <td>Bag-of-Words</td>\n",
       "      <td>1.000000</td>\n",
       "      <td>0.716667</td>\n",
       "      <td>NaN</td>\n",
       "      <td>Original</td>\n",
       "    </tr>\n",
       "    <tr>\n",
       "      <th>4</th>\n",
       "      <td>RandomForestClassifier</td>\n",
       "      <td>TFIDF</td>\n",
       "      <td>1.000000</td>\n",
       "      <td>0.766667</td>\n",
       "      <td>Original</td>\n",
       "      <td>NaN</td>\n",
       "    </tr>\n",
       "    <tr>\n",
       "      <th>5</th>\n",
       "      <td>RandomForestClassifier</td>\n",
       "      <td>Keyword</td>\n",
       "      <td>1.000000</td>\n",
       "      <td>0.933333</td>\n",
       "      <td>Original</td>\n",
       "      <td>NaN</td>\n",
       "    </tr>\n",
       "    <tr>\n",
       "      <th>6</th>\n",
       "      <td>XGBClassifier</td>\n",
       "      <td>Bag-of-Words</td>\n",
       "      <td>1.000000</td>\n",
       "      <td>0.833333</td>\n",
       "      <td>NaN</td>\n",
       "      <td>Original</td>\n",
       "    </tr>\n",
       "    <tr>\n",
       "      <th>7</th>\n",
       "      <td>XGBClassifier</td>\n",
       "      <td>TFIDF</td>\n",
       "      <td>1.000000</td>\n",
       "      <td>0.800000</td>\n",
       "      <td>Original</td>\n",
       "      <td>NaN</td>\n",
       "    </tr>\n",
       "    <tr>\n",
       "      <th>8</th>\n",
       "      <td>XGBClassifier</td>\n",
       "      <td>Keyword</td>\n",
       "      <td>0.996454</td>\n",
       "      <td>0.916667</td>\n",
       "      <td>Original</td>\n",
       "      <td>NaN</td>\n",
       "    </tr>\n",
       "    <tr>\n",
       "      <th>9</th>\n",
       "      <td>LinearSVC</td>\n",
       "      <td>Bag-of-Words</td>\n",
       "      <td>1.000000</td>\n",
       "      <td>0.800000</td>\n",
       "      <td>NaN</td>\n",
       "      <td>Reduced</td>\n",
       "    </tr>\n",
       "    <tr>\n",
       "      <th>10</th>\n",
       "      <td>LinearSVC</td>\n",
       "      <td>TFIDF</td>\n",
       "      <td>0.989362</td>\n",
       "      <td>0.766667</td>\n",
       "      <td>Reduced</td>\n",
       "      <td>NaN</td>\n",
       "    </tr>\n",
       "    <tr>\n",
       "      <th>11</th>\n",
       "      <td>LinearSVC</td>\n",
       "      <td>Keyword</td>\n",
       "      <td>0.921986</td>\n",
       "      <td>0.900000</td>\n",
       "      <td>Reduced</td>\n",
       "      <td>NaN</td>\n",
       "    </tr>\n",
       "    <tr>\n",
       "      <th>12</th>\n",
       "      <td>RandomForestClassifier</td>\n",
       "      <td>Bag-of-Words</td>\n",
       "      <td>1.000000</td>\n",
       "      <td>0.750000</td>\n",
       "      <td>NaN</td>\n",
       "      <td>Reduced</td>\n",
       "    </tr>\n",
       "    <tr>\n",
       "      <th>13</th>\n",
       "      <td>RandomForestClassifier</td>\n",
       "      <td>TFIDF</td>\n",
       "      <td>1.000000</td>\n",
       "      <td>0.700000</td>\n",
       "      <td>Reduced</td>\n",
       "      <td>NaN</td>\n",
       "    </tr>\n",
       "    <tr>\n",
       "      <th>14</th>\n",
       "      <td>RandomForestClassifier</td>\n",
       "      <td>Keyword</td>\n",
       "      <td>1.000000</td>\n",
       "      <td>0.850000</td>\n",
       "      <td>Reduced</td>\n",
       "      <td>NaN</td>\n",
       "    </tr>\n",
       "    <tr>\n",
       "      <th>15</th>\n",
       "      <td>XGBClassifier</td>\n",
       "      <td>Bag-of-Words</td>\n",
       "      <td>1.000000</td>\n",
       "      <td>0.716667</td>\n",
       "      <td>NaN</td>\n",
       "      <td>Reduced</td>\n",
       "    </tr>\n",
       "    <tr>\n",
       "      <th>16</th>\n",
       "      <td>XGBClassifier</td>\n",
       "      <td>TFIDF</td>\n",
       "      <td>1.000000</td>\n",
       "      <td>0.683333</td>\n",
       "      <td>Reduced</td>\n",
       "      <td>NaN</td>\n",
       "    </tr>\n",
       "    <tr>\n",
       "      <th>17</th>\n",
       "      <td>XGBClassifier</td>\n",
       "      <td>Keyword</td>\n",
       "      <td>1.000000</td>\n",
       "      <td>0.916667</td>\n",
       "      <td>Reduced</td>\n",
       "      <td>NaN</td>\n",
       "    </tr>\n",
       "  </tbody>\n",
       "</table>\n",
       "</div>"
      ],
      "text/plain": [
       "                Model Name Representation(Features)  Training Accuracy  \\\n",
       "0                LinearSVC             Bag-of-Words           1.000000   \n",
       "1                LinearSVC                    TFIDF           1.000000   \n",
       "2                LinearSVC                  Keyword           0.950355   \n",
       "3   RandomForestClassifier             Bag-of-Words           1.000000   \n",
       "4   RandomForestClassifier                    TFIDF           1.000000   \n",
       "5   RandomForestClassifier                  Keyword           1.000000   \n",
       "6            XGBClassifier             Bag-of-Words           1.000000   \n",
       "7            XGBClassifier                    TFIDF           1.000000   \n",
       "8            XGBClassifier                  Keyword           0.996454   \n",
       "9                LinearSVC             Bag-of-Words           1.000000   \n",
       "10               LinearSVC                    TFIDF           0.989362   \n",
       "11               LinearSVC                  Keyword           0.921986   \n",
       "12  RandomForestClassifier             Bag-of-Words           1.000000   \n",
       "13  RandomForestClassifier                    TFIDF           1.000000   \n",
       "14  RandomForestClassifier                  Keyword           1.000000   \n",
       "15           XGBClassifier             Bag-of-Words           1.000000   \n",
       "16           XGBClassifier                    TFIDF           1.000000   \n",
       "17           XGBClassifier                  Keyword           1.000000   \n",
       "\n",
       "    Validation Accuracy Dimensionality Dimentionality  \n",
       "0              0.750000            NaN       Original  \n",
       "1              0.783333       Original            NaN  \n",
       "2              0.916667       Original            NaN  \n",
       "3              0.716667            NaN       Original  \n",
       "4              0.766667       Original            NaN  \n",
       "5              0.933333       Original            NaN  \n",
       "6              0.833333            NaN       Original  \n",
       "7              0.800000       Original            NaN  \n",
       "8              0.916667       Original            NaN  \n",
       "9              0.800000            NaN        Reduced  \n",
       "10             0.766667        Reduced            NaN  \n",
       "11             0.900000        Reduced            NaN  \n",
       "12             0.750000            NaN        Reduced  \n",
       "13             0.700000        Reduced            NaN  \n",
       "14             0.850000        Reduced            NaN  \n",
       "15             0.716667            NaN        Reduced  \n",
       "16             0.683333        Reduced            NaN  \n",
       "17             0.916667        Reduced            NaN  "
      ]
     },
     "execution_count": 55,
     "metadata": {},
     "output_type": "execute_result"
    }
   ],
   "source": [
    "#df_model_result # 0820 original result"
   ]
  },
  {
   "cell_type": "markdown",
   "metadata": {},
   "source": [
    "# 6. Test (Random Forest with Keyword)"
   ]
  },
  {
   "cell_type": "code",
   "execution_count": 71,
   "metadata": {},
   "outputs": [],
   "source": [
    "X_train_kw = scaler.transform(df_train.loc[:,['biodiversity','carbon','climate','ecology',\n",
    "               'environment','emission','pollution','sustainable',\n",
    "              'environmental','esg','tcfd','sustainability','green',\n",
    "               'page_len','Annual','biodiversity_ratio','carbon_ratio','climate_ratio','ecology_ratio',\n",
    "               'environment_ratio','emission_ratio','pollution_ratio','sustainable_ratio',\n",
    "              'environmental_ratio','esg_ratio','tcfd_ratio','sustainability_ratio','green_ratio']])\n",
    "X_test_kw = scaler.transform(df_test.loc[:,['biodiversity','carbon','climate','ecology',\n",
    "               'environment','emission','pollution','sustainable',\n",
    "              'environmental','esg','tcfd','sustainability','green',\n",
    "               'page_len','Annual','biodiversity_ratio','carbon_ratio','climate_ratio','ecology_ratio',\n",
    "               'environment_ratio','emission_ratio','pollution_ratio','sustainable_ratio',\n",
    "              'environmental_ratio','esg_ratio','tcfd_ratio','sustainability_ratio','green_ratio']])"
   ]
  },
  {
   "cell_type": "code",
   "execution_count": 72,
   "metadata": {},
   "outputs": [],
   "source": [
    "X_train_kw_resampled, y_train_kw_resampled = SMOTE(random_state=0).fit_resample(X_train_kw,y_train)"
   ]
  },
  {
   "cell_type": "code",
   "execution_count": 73,
   "metadata": {},
   "outputs": [
    {
     "data": {
      "text/plain": [
       "(100, 28)"
      ]
     },
     "execution_count": 73,
     "metadata": {},
     "output_type": "execute_result"
    }
   ],
   "source": [
    "X_test_kw.shape"
   ]
  },
  {
   "cell_type": "code",
   "execution_count": 74,
   "metadata": {},
   "outputs": [],
   "source": [
    "rf = RandomForestClassifier()\n",
    "\n",
    "#bow\n",
    "rf.fit(X_train_kw_resampled, y_train_kw_resampled)\n",
    "y_test_kw_pre = rf.predict(X_test_kw)"
   ]
  },
  {
   "cell_type": "code",
   "execution_count": 75,
   "metadata": {},
   "outputs": [
    {
     "name": "stdout",
     "output_type": "stream",
     "text": [
      "              precision    recall  f1-score   support\n",
      "\n",
      "           0       0.96      0.97      0.97        73\n",
      "           1       0.92      0.89      0.91        27\n",
      "\n",
      "    accuracy                           0.95       100\n",
      "   macro avg       0.94      0.93      0.94       100\n",
      "weighted avg       0.95      0.95      0.95       100\n",
      "\n"
     ]
    },
    {
     "data": {
      "text/plain": [
       "0.95"
      ]
     },
     "execution_count": 75,
     "metadata": {},
     "output_type": "execute_result"
    }
   ],
   "source": [
    "print(classification_report(y_test, y_test_kw_pre))\n",
    "accuracy_score(y_test, y_test_kw_pre)"
   ]
  },
  {
   "cell_type": "code",
   "execution_count": 91,
   "metadata": {},
   "outputs": [],
   "source": [
    "# save the model\n",
    "# import pickle\n",
    "# pkl_filename = \"/project/model/page_classification_rf_0819.pkl\"\n",
    "# with open(pkl_filename, 'wb') as file:\n",
    "#     pickle.dump(rf, file)"
   ]
  },
  {
   "cell_type": "code",
   "execution_count": 92,
   "metadata": {},
   "outputs": [],
   "source": [
    "# # Load from file\n",
    "# with open(\"/project/model/page_classification_rf_0819.pkl\", 'rb') as file:\n",
    "#     pickle_model = pickle.load(file)"
   ]
  },
  {
   "cell_type": "code",
   "execution_count": 76,
   "metadata": {},
   "outputs": [
    {
     "data": {
      "text/plain": [
       "0    73\n",
       "1    27\n",
       "Name: Climate_label, dtype: int64"
      ]
     },
     "execution_count": 76,
     "metadata": {},
     "output_type": "execute_result"
    }
   ],
   "source": [
    "y_test.value_counts()"
   ]
  },
  {
   "cell_type": "code",
   "execution_count": 78,
   "metadata": {},
   "outputs": [],
   "source": [
    "fail_index = (y_test!= y_test_kw_pre)"
   ]
  },
  {
   "cell_type": "code",
   "execution_count": 79,
   "metadata": {},
   "outputs": [
    {
     "data": {
      "text/plain": [
       "4266    0.5\n",
       "48      0.0\n",
       "1692    0.5\n",
       "1191    0.5\n",
       "1970    0.0\n",
       "Name: Climate, dtype: float64"
      ]
     },
     "execution_count": 79,
     "metadata": {},
     "output_type": "execute_result"
    }
   ],
   "source": [
    "df_test.loc[fail_index,'Climate']"
   ]
  },
  {
   "cell_type": "markdown",
   "metadata": {},
   "source": [
    "# 7. Get Prediction for Unlabelled Data"
   ]
  },
  {
   "cell_type": "code",
   "execution_count": 80,
   "metadata": {},
   "outputs": [],
   "source": [
    "X_predict_kw = scaler.transform(df_predict.loc[:,['biodiversity','carbon','climate','ecology',\n",
    "               'environment','emission','pollution','sustainable',\n",
    "              'environmental','esg','tcfd','sustainability','green',\n",
    "               'page_len','Annual','biodiversity_ratio','carbon_ratio','climate_ratio','ecology_ratio',\n",
    "               'environment_ratio','emission_ratio','pollution_ratio','sustainable_ratio',\n",
    "              'environmental_ratio','esg_ratio','tcfd_ratio','sustainability_ratio','green_ratio']])"
   ]
  },
  {
   "cell_type": "code",
   "execution_count": 81,
   "metadata": {},
   "outputs": [],
   "source": [
    "y_predict_pre = rf.predict(X_predict_kw)\n",
    "df_predict['Climate'] = y_predict_pre "
   ]
  },
  {
   "cell_type": "code",
   "execution_count": 83,
   "metadata": {},
   "outputs": [],
   "source": [
    "#replace predicted label manual label from df and df_test \n",
    "df_predict['Climate'] = df_predict.apply(lambda x: get_label(df,df_test,x.row,x.Climate),axis=1)"
   ]
  },
  {
   "cell_type": "code",
   "execution_count": 82,
   "metadata": {},
   "outputs": [
    {
     "data": {
      "text/plain": [
       "0    2851\n",
       "1     968\n",
       "Name: Climate, dtype: int64"
      ]
     },
     "execution_count": 82,
     "metadata": {},
     "output_type": "execute_result"
    }
   ],
   "source": [
    "#get manual label for df and df_test\n",
    "df_predict['Climate'].value_counts()"
   ]
  },
  {
   "cell_type": "code",
   "execution_count": 87,
   "metadata": {},
   "outputs": [],
   "source": [
    "label_dict = {0:0,0.1:0,0.5:1,1:1}\n",
    "df_predict['Climate'] = df_predict.Climate.map(label_dict)"
   ]
  },
  {
   "cell_type": "code",
   "execution_count": 88,
   "metadata": {},
   "outputs": [
    {
     "data": {
      "text/plain": [
       "0    2846\n",
       "1     973\n",
       "Name: Climate, dtype: int64"
      ]
     },
     "execution_count": 88,
     "metadata": {},
     "output_type": "execute_result"
    }
   ],
   "source": [
    "#final labels\n",
    "df_predict['Climate'].value_counts()"
   ]
  },
  {
   "cell_type": "code",
   "execution_count": 94,
   "metadata": {},
   "outputs": [],
   "source": [
    "# df_predict.to_excel('/project/Data/kw_predict_page_new.xlsx',encoding='utf-8')"
   ]
  }
 ],
 "metadata": {
  "kernelspec": {
   "display_name": "Python [conda env:Python3]",
   "language": "python",
   "name": "conda-env-Python3-py"
  },
  "language_info": {
   "codemirror_mode": {
    "name": "ipython",
    "version": 3
   },
   "file_extension": ".py",
   "mimetype": "text/x-python",
   "name": "python",
   "nbconvert_exporter": "python",
   "pygments_lexer": "ipython3",
   "version": "3.6.10"
  }
 },
 "nbformat": 4,
 "nbformat_minor": 2
}
